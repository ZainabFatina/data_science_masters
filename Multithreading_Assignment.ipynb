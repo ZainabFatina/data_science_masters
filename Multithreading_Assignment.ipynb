{
 "cells": [
  {
   "cell_type": "markdown",
   "id": "f0281a53-40d9-4b53-96a8-b975b8c8cc2c",
   "metadata": {},
   "source": [
    "##### Q1.What is multithreading in python?Why is it used? Name the module used to handle threads in python."
   ]
  },
  {
   "cell_type": "markdown",
   "id": "0fecc5c4-762e-442e-987a-dffa74c40485",
   "metadata": {},
   "source": [
    "###### Multithreading in Python refers to the concurrent execution of multiple threads within the same process. A thread is the smallest unit of a program that can be scheduled by an operating system's scheduler. Python provides a built-in module called threading to handle multithreading.Multithreading is used in Python for several reasons:"
   ]
  },
  {
   "cell_type": "markdown",
   "id": "76b61472-73dc-469e-ace2-f361a94736bb",
   "metadata": {},
   "source": [
    "###### 1.Parallelism: Multithreading allows you to perform multiple tasks simultaneously. For example, if you have a program that needs to perform multiple calculations at the same time, you can use threads to divide the work and speed up the process.\n",
    "###### 2.Concurrency: Multithreading is also valuable for handling I/O-bound tasks, such as reading/writing files, making network requests, or handling user input.\n",
    "###### 3.Responsiveness: Multithreading can be used to create responsive user interfaces, ensuring that a long-running task (e.g., data processing) doesn't freeze the user interface, allowing users to continue interacting with the application."
   ]
  },
  {
   "cell_type": "markdown",
   "id": "37d0f6a8-cdde-4224-9a62-40cddb202759",
   "metadata": {},
   "source": [
    "###### The threading module is the primary module used to handle threads in Python. It provides classes and functions to create, manage, and synchronize threads. You can use the Thread class from this module to create and start threads, and various synchronization primitives like locks, semaphores, and conditions to manage thread access to shared resources."
   ]
  },
  {
   "cell_type": "markdown",
   "id": "511114d3-d15e-4258-8161-5018ca246952",
   "metadata": {},
   "source": [
    "##### Q2.Why threading module used?Write the use of the following functions.1.activeCount()2.currentThread()3.enumerate()"
   ]
  },
  {
   "cell_type": "markdown",
   "id": "7389d49b-a374-4267-b8ed-e9b397817ef4",
   "metadata": {},
   "source": [
    "###### The threading module in Python is used for creating and managing threads. It provides a high-level, object-oriented interface for working with threads. Here are the descriptions of the functions you mentioned:"
   ]
  },
  {
   "cell_type": "markdown",
   "id": "2d341246-68fb-4fb5-ae6d-b9145b905160",
   "metadata": {},
   "source": [
    "###### 1.activeCount():threading.activeCount() is a function that returns the number of Thread objects currently alive. It counts all threads, including the main thread. This can be helpful for monitoring and debugging thread activity in your program."
   ]
  },
  {
   "cell_type": "code",
   "execution_count": 1,
   "id": "7dc17cc7-68b5-4955-85e3-fe14b359ceaf",
   "metadata": {},
   "outputs": [
    {
     "name": "stdout",
     "output_type": "stream",
     "text": [
      "Active threads: 8\n"
     ]
    },
    {
     "name": "stderr",
     "output_type": "stream",
     "text": [
      "/tmp/ipykernel_597/2072465170.py:13: DeprecationWarning: activeCount() is deprecated, use active_count() instead\n",
      "  print(\"Active threads:\", threading.activeCount())\n"
     ]
    }
   ],
   "source": [
    "import threading\n",
    "\n",
    "def my_function():\n",
    "    pass\n",
    "\n",
    "# Create some threads\n",
    "threads = [threading.Thread(target=my_function) for _ in range(5)]\n",
    "\n",
    "for thread in threads:\n",
    "    thread.start()\n",
    "\n",
    "# Get the number of active threads\n",
    "print(\"Active threads:\", threading.activeCount())\n"
   ]
  },
  {
   "cell_type": "markdown",
   "id": "ba086c79-3d98-4836-b199-3481e33c20b9",
   "metadata": {},
   "source": [
    "###### 2.currentThread():threading.currentThread() is a function that returns the current Thread object, representing the thread from which it is called. You can use this to get information about the currently executing thread."
   ]
  },
  {
   "cell_type": "code",
   "execution_count": 2,
   "id": "51468ba6-ba6e-43d1-8ce9-1f6ee2eb72b2",
   "metadata": {},
   "outputs": [
    {
     "name": "stdout",
     "output_type": "stream",
     "text": [
      "Thread name: Thread-10 (my_function)\n"
     ]
    },
    {
     "name": "stderr",
     "output_type": "stream",
     "text": [
      "/tmp/ipykernel_597/3997999846.py:4: DeprecationWarning: currentThread() is deprecated, use current_thread() instead\n",
      "  print(\"Thread name:\", threading.currentThread().name)\n"
     ]
    }
   ],
   "source": [
    "import threading\n",
    "\n",
    "def my_function():\n",
    "    print(\"Thread name:\", threading.currentThread().name)\n",
    "\n",
    "# Create a thread\n",
    "thread = threading.Thread(target=my_function)\n",
    "\n",
    "# Start the thread\n",
    "thread.start()\n"
   ]
  },
  {
   "cell_type": "markdown",
   "id": "c912b8ba-3ffa-4e59-9efc-ef65db37c1f3",
   "metadata": {},
   "source": [
    "###### 3.enumerate():threading.enumerate() is a function that returns a list of all currently active Thread objects. It is similar to activeCount() but provides a list of the actual Thread objects, which can be useful for inspecting and interacting with the threads."
   ]
  },
  {
   "cell_type": "code",
   "execution_count": 3,
   "id": "7588eb1e-d050-476c-a008-b65fff5f1235",
   "metadata": {},
   "outputs": [
    {
     "name": "stdout",
     "output_type": "stream",
     "text": [
      "Active thread: MainThread\n",
      "Active thread: IOPub\n",
      "Active thread: Heartbeat\n",
      "Active thread: Thread-3 (_watch_pipe_fd)\n",
      "Active thread: Thread-4 (_watch_pipe_fd)\n",
      "Active thread: Control\n",
      "Active thread: IPythonHistorySavingThread\n",
      "Active thread: Thread-2\n"
     ]
    }
   ],
   "source": [
    "import threading\n",
    "\n",
    "def my_function():\n",
    "    pass\n",
    "\n",
    "# Create some threads\n",
    "threads = [threading.Thread(target=my_function) for _ in range(5)]\n",
    "\n",
    "for thread in threads:\n",
    "    thread.start()\n",
    "\n",
    "# Get a list of currently active threads\n",
    "active_threads = threading.enumerate()\n",
    "for thread in active_threads:\n",
    "    print(\"Active thread:\", thread.name)\n"
   ]
  },
  {
   "cell_type": "markdown",
   "id": "445768bd-6cf9-4a76-b5f7-c5ba17e2a540",
   "metadata": {},
   "source": [
    "##### 3. Explain the following functions.1.run()2.start()3.join()4.isAlive()"
   ]
  },
  {
   "cell_type": "markdown",
   "id": "1a6e9149-cad9-4fa3-94c8-46e4d6d26c77",
   "metadata": {},
   "source": [
    "###### run():The run method is not directly used by you when creating threads. Instead, you should define the behavior of a thread by subclassing the Thread class and overriding the run method. The run method contains the code that the thread executes when it starts. When you call start() on a thread, it internally invokes the run method. You should provide the custom behavior for your thread within this method."
   ]
  },
  {
   "cell_type": "code",
   "execution_count": 4,
   "id": "12faacb3-a44f-4243-8c13-c1d928b02d3d",
   "metadata": {},
   "outputs": [
    {
     "name": "stdout",
     "output_type": "stream",
     "text": [
      "Thread is running\n"
     ]
    }
   ],
   "source": [
    "import threading\n",
    "\n",
    "class MyThread(threading.Thread):\n",
    "    def run(self):\n",
    "        # Custom behavior for the thread goes here\n",
    "        print(\"Thread is running\")\n",
    "\n",
    "my_thread = MyThread()\n",
    "my_thread.start()\n"
   ]
  },
  {
   "cell_type": "markdown",
   "id": "154cfffc-af75-4a80-918c-a04ae271cb60",
   "metadata": {},
   "source": [
    "###### start():The start method is used to begin the execution of a thread. When you call start() on a Thread object, it schedules the thread for execution and invokes the run method of the thread. It does not block the calling thread and allows multiple threads to run concurrently."
   ]
  },
  {
   "cell_type": "code",
   "execution_count": 5,
   "id": "cce1b2fa-cd12-4016-812c-333e2e48230e",
   "metadata": {},
   "outputs": [
    {
     "name": "stdout",
     "output_type": "stream",
     "text": [
      "Thread is running\n"
     ]
    }
   ],
   "source": [
    "import threading\n",
    "\n",
    "def my_function():\n",
    "    print(\"Thread is running\")\n",
    "\n",
    "my_thread = threading.Thread(target=my_function)\n",
    "my_thread.start()  # Start the thread\n"
   ]
  },
  {
   "cell_type": "markdown",
   "id": "6cb993ad-d48e-447b-8601-281f04d44555",
   "metadata": {},
   "source": [
    "###### join():The join method is used to wait for a thread to finish its execution. When you call join() on a thread, the calling thread will block and wait for the specified thread to complete before continuing its own execution. This is useful when you want to ensure that one thread finishes before another starts or when you need to collect results from a thread."
   ]
  },
  {
   "cell_type": "code",
   "execution_count": 6,
   "id": "c12cb43e-5f5b-41bd-9422-fa5c85d64a95",
   "metadata": {},
   "outputs": [
    {
     "name": "stdout",
     "output_type": "stream",
     "text": [
      "Thread is running\n"
     ]
    }
   ],
   "source": [
    "import threading\n",
    "\n",
    "def my_function():\n",
    "    print(\"Thread is running\")\n",
    "\n",
    "my_thread = threading.Thread(target=my_function)\n",
    "my_thread.start()  # Start the thread\n",
    "my_thread.join()   # Wait for the thread to finish\n"
   ]
  },
  {
   "cell_type": "markdown",
   "id": "60784daf-155f-4e79-9bb3-cb2fa1e7e702",
   "metadata": {},
   "source": [
    "###### is_alive():The is_alive method is used to check whether a thread is currently executing or has already finished. It returns True if the thread is still running and False if it has completed its execution."
   ]
  },
  {
   "cell_type": "code",
   "execution_count": 8,
   "id": "cbca699d-8420-43e1-9f68-c7f37746c77a",
   "metadata": {},
   "outputs": [
    {
     "name": "stdout",
     "output_type": "stream",
     "text": [
      "Thread is still running\n"
     ]
    }
   ],
   "source": [
    "import threading\n",
    "import time\n",
    "\n",
    "def my_function():\n",
    "    time.sleep(2)\n",
    "\n",
    "my_thread = threading.Thread(target=my_function)\n",
    "my_thread.start()\n",
    "\n",
    "# Check if the thread is alive\n",
    "if my_thread.is_alive():\n",
    "    print(\"Thread is still running\")\n",
    "else:\n",
    "    print(\"Thread has finished\")\n"
   ]
  },
  {
   "cell_type": "markdown",
   "id": "44b9af21-332c-413d-b7fa-d07678f00128",
   "metadata": {},
   "source": [
    "##### Q4.Write a python program to create two threads. Thread one must print the list of squares and thread two must print the list of cubes."
   ]
  },
  {
   "cell_type": "code",
   "execution_count": 9,
   "id": "47305669-ef6d-4030-a45e-0faa209073fb",
   "metadata": {},
   "outputs": [
    {
     "name": "stdout",
     "output_type": "stream",
     "text": [
      "Square of 1 is 1\n",
      "Square of 2 is 4\n",
      "Square of 3 is 9\n",
      "Square of 4 is 16\n",
      "Square of 5 is 25\n",
      "Cube of 1 is 1\n",
      "Cube of 2 is 8\n",
      "Cube of 3 is 27\n",
      "Cube of 4 is 64\n",
      "Cube of 5 is 125\n",
      "Both threads have finished.\n"
     ]
    }
   ],
   "source": [
    "import threading\n",
    "\n",
    "# Function to calculate and print squares\n",
    "def print_squares():\n",
    "    for i in range(1, 6):\n",
    "        print(f\"Square of {i} is {i ** 2}\")\n",
    "\n",
    "# Function to calculate and print cubes\n",
    "def print_cubes():\n",
    "    for i in range(1, 6):\n",
    "        print(f\"Cube of {i} is {i ** 3}\")\n",
    "\n",
    "# Create two threads\n",
    "thread1 = threading.Thread(target=print_squares)\n",
    "thread2 = threading.Thread(target=print_cubes)\n",
    "\n",
    "# Start the threads\n",
    "thread1.start()\n",
    "thread2.start()\n",
    "\n",
    "# Wait for both threads to finish\n",
    "thread1.join()\n",
    "thread2.join()\n",
    "\n",
    "print(\"Both threads have finished.\")\n"
   ]
  },
  {
   "cell_type": "markdown",
   "id": "1cb5cba0-8256-4105-8fe9-aa5fb5cb9617",
   "metadata": {},
   "source": [
    "##### Q5.State advantages and disadvantages of multithreading."
   ]
  },
  {
   "cell_type": "markdown",
   "id": "e5c84533-0f6b-4354-b048-539280c1a9b4",
   "metadata": {},
   "source": [
    "###### Advantages\n",
    "###### 1.Parallelism: Multithreading allows you to perform multiple tasks simultaneously. For example, if you have a program that needs to perform multiple calculations at the same time, you can use threads to divide the work and speed up the process.\n",
    "###### 2.Concurrency: Multithreading is also valuable for handling I/O-bound tasks, such as reading/writing files, making network requests, or handling user input.\n",
    "###### 3.Responsiveness: Multithreading can be used to create responsive user interfaces, ensuring that a long-running task (e.g., data processing) doesn't freeze the user interface, allowing users to continue interacting with the application."
   ]
  },
  {
   "cell_type": "markdown",
   "id": "fed7de54-0b00-4785-955d-d691dc0c81df",
   "metadata": {},
   "source": [
    "###### Disadvantages:\n",
    "###### 1.Complexity:Multithreaded programs can be complex and challenging to develop, debug, and maintain. \n",
    "###### 2.Non-Determinism:Multithreading can introduce non-deterministic behavior in a program, making it harder to predict the exact order of execution and leading to hard-to-reproduce bugs.\n",
    "###### 3.Synchronization Overhead:Synchronization mechanisms, such as locks and semaphores, are required to ensure data integrity and avoid race conditions. These mechanisms can introduce overhead and reduce performance."
   ]
  },
  {
   "cell_type": "markdown",
   "id": "8d6f4ccf-a979-464f-8c43-001227ab3376",
   "metadata": {},
   "source": [
    "###### Q6. Explain deadlocks and race conditions."
   ]
  },
  {
   "cell_type": "markdown",
   "id": "cfe7e929-e2c5-4ec7-9ba4-690d1fca1209",
   "metadata": {},
   "source": [
    "###### 1. Deadlock:A deadlock is a situation in which two or more threads or processes are unable to proceed because each is waiting for the other to release a resource. It's essentially a standstill where no progress can be made, and the application becomes unresponsive. Deadlocks typically occur when multiple threads or processes compete for exclusive access to resources and each holds at least one resource that the others need.\n",
    "###### Example of a deadlock scenario:Thread A holds resource X and requests resource Y.Thread B holds resource Y and requests resource X.Both threads A and B are now waiting for the other to release the required resource, causing a deadlock."
   ]
  },
  {
   "cell_type": "markdown",
   "id": "6f29d542-115b-4793-be9c-39ce5b4de5f6",
   "metadata": {},
   "source": [
    "###### 2. Race Condition:A race condition is a situation in which the behavior of a program depends on the relative timing of events, particularly in concurrent or parallel execution. In a race condition, multiple threads or processes access shared data concurrently, and the final outcome depends on the order of execution. Race conditions can lead to unpredictable and undesirable behavior, including data corruption, crashes, and incorrect results.\n",
    "###### Example of a race condition:Two threads, Thread A and Thread B, access and modify a shared variable concurrently without proper synchronization.Depending on the timing of the threads, the variable may end up with unexpected values or become corrupted."
   ]
  },
  {
   "cell_type": "code",
   "execution_count": null,
   "id": "68fad613-058d-4dda-a02e-e6cec25ca0ec",
   "metadata": {},
   "outputs": [],
   "source": []
  }
 ],
 "metadata": {
  "kernelspec": {
   "display_name": "Python 3 (ipykernel)",
   "language": "python",
   "name": "python3"
  },
  "language_info": {
   "codemirror_mode": {
    "name": "ipython",
    "version": 3
   },
   "file_extension": ".py",
   "mimetype": "text/x-python",
   "name": "python",
   "nbconvert_exporter": "python",
   "pygments_lexer": "ipython3",
   "version": "3.10.8"
  }
 },
 "nbformat": 4,
 "nbformat_minor": 5
}
