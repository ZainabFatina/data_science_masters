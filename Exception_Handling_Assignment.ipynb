{
 "cells": [
  {
   "cell_type": "markdown",
   "id": "4982102c-93e1-4aca-93af-637c0be2f6fe",
   "metadata": {},
   "source": [
    "##### Q1.What is an Exception in Python? Write the difference between Exceptions and Syntax errors."
   ]
  },
  {
   "cell_type": "raw",
   "id": "8fa19fe5-8fdd-480b-aafd-81e7910d0374",
   "metadata": {},
   "source": [
    "An exception in Python is an error that occurs during the execution of a program, which disrupts the normal flow of the program’s instructions. There are two types of errors in Python: syntax errors and exceptions .\n",
    "\n",
    "Syntax errors occur when the interpreter is unable to understand the code due to incorrect syntax. For example, if you forget to add a colon at the end of an if statement, you will get a syntax error .\n",
    "\n",
    "Exceptions are errors that occur during the execution of a program, even if the syntax is correct. Exceptions are raised when the interpreter encounters an unexpected condition or event that disrupts the normal flow of the program. For example, if you try to divide a number by zero, you will get a ZeroDivisionError exception."
   ]
  },
  {
   "cell_type": "markdown",
   "id": "e2484f30-5a7c-4285-ad22-96b578a810dc",
   "metadata": {},
   "source": [
    "##### Q2.What happens when an exception is not handled?Explain with an example."
   ]
  },
  {
   "cell_type": "raw",
   "id": "bdeaef5e-41e2-41d9-a0ad-adc0b213827e",
   "metadata": {},
   "source": [
    "When an exception is not handled, it is called an unhandled exception. In Python, when an unhandled exception occurs, the interpreter stops the execution of the program and prints a traceback message that shows the line of code that caused the exception and the type of exception that was raised .\n",
    "Here is an example of an unhandled exception:\n"
   ]
  },
  {
   "cell_type": "code",
   "execution_count": 1,
   "id": "61a077f8-f755-4a43-884f-41a3d3b21266",
   "metadata": {},
   "outputs": [
    {
     "ename": "ZeroDivisionError",
     "evalue": "division by zero",
     "output_type": "error",
     "traceback": [
      "\u001b[0;31m---------------------------------------------------------------------------\u001b[0m",
      "\u001b[0;31mZeroDivisionError\u001b[0m                         Traceback (most recent call last)",
      "Cell \u001b[0;32mIn[1], line 2\u001b[0m\n\u001b[1;32m      1\u001b[0m \u001b[38;5;66;03m# This code will raise a ZeroDivisionError exception\u001b[39;00m\n\u001b[0;32m----> 2\u001b[0m x \u001b[38;5;241m=\u001b[39m \u001b[38;5;241;43m1\u001b[39;49m\u001b[43m \u001b[49m\u001b[38;5;241;43m/\u001b[39;49m\u001b[43m \u001b[49m\u001b[38;5;241;43m0\u001b[39;49m\n",
      "\u001b[0;31mZeroDivisionError\u001b[0m: division by zero"
     ]
    }
   ],
   "source": [
    "# This code will raise a ZeroDivisionError exception\n",
    "x = 1 / 0"
   ]
  },
  {
   "cell_type": "markdown",
   "id": "2d278d8e-9087-4c61-b672-8eec619313da",
   "metadata": {},
   "source": [
    "##### Q3.Which Python Statements are used to catch and handle exception?Explain with an example."
   ]
  },
  {
   "cell_type": "raw",
   "id": "cb5bf7bc-d018-42ea-901b-d110f911d0f2",
   "metadata": {},
   "source": [
    "Python provides a way to handle exceptions using the try and except statements. The try block contains the code that might raise an exception, and the except block contains the code that will be executed if an exception is raised. Here is an example:\n"
   ]
  },
  {
   "cell_type": "code",
   "execution_count": 2,
   "id": "7b47ab0d-cbce-4e24-873e-6df064a42214",
   "metadata": {},
   "outputs": [
    {
     "name": "stdout",
     "output_type": "stream",
     "text": [
      "list index out of range\n"
     ]
    }
   ],
   "source": [
    "try:\n",
    "    d=[1,2,3,4]\n",
    "    d[5]\n",
    "except Exception as e:\n",
    "    print(e)"
   ]
  },
  {
   "cell_type": "markdown",
   "id": "0519695d-e558-4cfc-8eb0-1992c5ae3945",
   "metadata": {},
   "source": [
    "##### Q4.Explain with an example a.try and else b.finally c.raise\n",
    "    "
   ]
  },
  {
   "cell_type": "raw",
   "id": "cd9e9fb8-9aa9-4ae1-a1a6-592e7a6b6214",
   "metadata": {},
   "source": [
    "Some examples of how to use try, else, finally, and raise in Python:\n",
    "\n"
   ]
  },
  {
   "cell_type": "code",
   "execution_count": 1,
   "id": "2517d257-fe2b-4f1a-820c-c58bbc733aff",
   "metadata": {},
   "outputs": [
    {
     "name": "stdout",
     "output_type": "stream",
     "text": [
      "Cannot divide by zero\n"
     ]
    }
   ],
   "source": [
    "#Try Except and Else\n",
    "try:\n",
    "    x = 5 / 0\n",
    "except ZeroDivisionError:\n",
    "    print(\"Cannot divide by zero\")\n",
    "else:\n",
    "    print(\"Division successful\")"
   ]
  },
  {
   "cell_type": "raw",
   "id": "2a4541ba-1acf-48c6-8715-acc9cfc166a2",
   "metadata": {},
   "source": [
    "In this example, if an exception of type ExceptionType is raised in the try block, the code in the except block will be executed. If no exception is raised, the code in the else block will be executed."
   ]
  },
  {
   "cell_type": "code",
   "execution_count": 2,
   "id": "855c2a2d-bbf7-4020-accc-bbbb9d3ec188",
   "metadata": {},
   "outputs": [
    {
     "name": "stdout",
     "output_type": "stream",
     "text": [
      "Cannot divide by zero\n",
      "This code will always be executed\n"
     ]
    }
   ],
   "source": [
    "#Finally\n",
    "try:\n",
    "    x = 5 / 0\n",
    "except ZeroDivisionError:\n",
    "    print(\"Cannot divide by zero\")\n",
    "finally:\n",
    "    print(\"This code will always be executed\")"
   ]
  },
  {
   "cell_type": "raw",
   "id": "b3257eb1-eb65-4bb9-81ad-f240ece6cf70",
   "metadata": {},
   "source": [
    "In this example, the code in the finally block will always be executed, regardless of whether an exception is raised or not."
   ]
  },
  {
   "cell_type": "code",
   "execution_count": 3,
   "id": "b7d490bb-cb7b-497e-8404-3e631a27db7d",
   "metadata": {},
   "outputs": [
    {
     "ename": "ValueError",
     "evalue": "Number must be positive",
     "output_type": "error",
     "traceback": [
      "\u001b[0;31m---------------------------------------------------------------------------\u001b[0m",
      "\u001b[0;31mValueError\u001b[0m                                Traceback (most recent call last)",
      "Cell \u001b[0;32mIn[3], line 5\u001b[0m\n\u001b[1;32m      2\u001b[0m x \u001b[38;5;241m=\u001b[39m \u001b[38;5;241m-\u001b[39m\u001b[38;5;241m1\u001b[39m\n\u001b[1;32m      4\u001b[0m \u001b[38;5;28;01mif\u001b[39;00m x \u001b[38;5;241m<\u001b[39m \u001b[38;5;241m0\u001b[39m:\n\u001b[0;32m----> 5\u001b[0m     \u001b[38;5;28;01mraise\u001b[39;00m \u001b[38;5;167;01mValueError\u001b[39;00m(\u001b[38;5;124m\"\u001b[39m\u001b[38;5;124mNumber must be positive\u001b[39m\u001b[38;5;124m\"\u001b[39m)\n",
      "\u001b[0;31mValueError\u001b[0m: Number must be positive"
     ]
    }
   ],
   "source": [
    "#raise\n",
    "x = -1\n",
    "\n",
    "if x < 0:\n",
    "    raise ValueError(\"Number must be positive\")"
   ]
  },
  {
   "cell_type": "raw",
   "id": "2f784654-0d42-4b4d-a9c1-2f304a45a308",
   "metadata": {},
   "source": [
    "In this example, the if statement checks if x is negative. Since x is equal to -1, the condition is true, and the raise statement raises a ValueError exception with the error message \"Number must be positive\"."
   ]
  },
  {
   "cell_type": "markdown",
   "id": "0a91febf-1f24-445a-8d3d-f5f1d01beecc",
   "metadata": {},
   "source": [
    "##### Q5.What are custom exceptions in python?Why do we need custom Exception?Explain with an example.\n"
   ]
  },
  {
   "cell_type": "raw",
   "id": "0fbe3739-b7e8-457e-90aa-1473c8c59a0f",
   "metadata": {},
   "source": [
    "Custom exceptions are user-defined exceptions in Python that are created by deriving a new class from the built-in Exception class .Custom exceptions are useful when you want to raise an exception that is specific to your program or application. For example, if you are writing a program that reads data from a file, you might want to raise a custom exception if the file does not exist or cannot be opened ."
   ]
  },
  {
   "cell_type": "code",
   "execution_count": 4,
   "id": "c5927e3f-a0d8-4202-88fc-355a3ad6d1cd",
   "metadata": {},
   "outputs": [],
   "source": [
    "class FileError(Exception):\n",
    "    pass\n",
    "\n",
    "def read_file(filename):\n",
    "    try:\n",
    "        with open(filename, 'r') as f:\n",
    "            data = f.read()\n",
    "    except FileNotFoundError:\n",
    "        raise FileError(f\"File not found: {filename}\")\n",
    "    except IOError:\n",
    "        raise FileError(f\"Error reading file: {filename}\")\n",
    "    else:\n",
    "        return data\n"
   ]
  },
  {
   "cell_type": "raw",
   "id": "6d1a61b8-48e9-4ecc-95c5-08cfb599ea18",
   "metadata": {},
   "source": [
    "In this example, we have defined a custom exception called FileError by creating a new class that is derived from the built-in Exception class. We have also defined a function called read_file that reads data from a file. If the file does not exist or cannot be opened, the function raises a FileError exception with an appropriate error message."
   ]
  },
  {
   "cell_type": "code",
   "execution_count": 5,
   "id": "0d856fa9-74be-4aae-964c-11c1ec107ba0",
   "metadata": {},
   "outputs": [
    {
     "ename": "FileError",
     "evalue": "File not found: file.txt",
     "output_type": "error",
     "traceback": [
      "\u001b[0;31m---------------------------------------------------------------------------\u001b[0m",
      "\u001b[0;31mFileNotFoundError\u001b[0m                         Traceback (most recent call last)",
      "Cell \u001b[0;32mIn[4], line 6\u001b[0m, in \u001b[0;36mread_file\u001b[0;34m(filename)\u001b[0m\n\u001b[1;32m      5\u001b[0m \u001b[38;5;28;01mtry\u001b[39;00m:\n\u001b[0;32m----> 6\u001b[0m     \u001b[38;5;28;01mwith\u001b[39;00m \u001b[38;5;28;43mopen\u001b[39;49m\u001b[43m(\u001b[49m\u001b[43mfilename\u001b[49m\u001b[43m,\u001b[49m\u001b[43m \u001b[49m\u001b[38;5;124;43m'\u001b[39;49m\u001b[38;5;124;43mr\u001b[39;49m\u001b[38;5;124;43m'\u001b[39;49m\u001b[43m)\u001b[49m \u001b[38;5;28;01mas\u001b[39;00m f:\n\u001b[1;32m      7\u001b[0m         data \u001b[38;5;241m=\u001b[39m f\u001b[38;5;241m.\u001b[39mread()\n",
      "File \u001b[0;32m/opt/conda/lib/python3.10/site-packages/IPython/core/interactiveshell.py:282\u001b[0m, in \u001b[0;36m_modified_open\u001b[0;34m(file, *args, **kwargs)\u001b[0m\n\u001b[1;32m    276\u001b[0m     \u001b[38;5;28;01mraise\u001b[39;00m \u001b[38;5;167;01mValueError\u001b[39;00m(\n\u001b[1;32m    277\u001b[0m         \u001b[38;5;124mf\u001b[39m\u001b[38;5;124m\"\u001b[39m\u001b[38;5;124mIPython won\u001b[39m\u001b[38;5;124m'\u001b[39m\u001b[38;5;124mt let you open fd=\u001b[39m\u001b[38;5;132;01m{\u001b[39;00mfile\u001b[38;5;132;01m}\u001b[39;00m\u001b[38;5;124m by default \u001b[39m\u001b[38;5;124m\"\u001b[39m\n\u001b[1;32m    278\u001b[0m         \u001b[38;5;124m\"\u001b[39m\u001b[38;5;124mas it is likely to crash IPython. If you know what you are doing, \u001b[39m\u001b[38;5;124m\"\u001b[39m\n\u001b[1;32m    279\u001b[0m         \u001b[38;5;124m\"\u001b[39m\u001b[38;5;124myou can use builtins\u001b[39m\u001b[38;5;124m'\u001b[39m\u001b[38;5;124m open.\u001b[39m\u001b[38;5;124m\"\u001b[39m\n\u001b[1;32m    280\u001b[0m     )\n\u001b[0;32m--> 282\u001b[0m \u001b[38;5;28;01mreturn\u001b[39;00m \u001b[43mio_open\u001b[49m\u001b[43m(\u001b[49m\u001b[43mfile\u001b[49m\u001b[43m,\u001b[49m\u001b[43m \u001b[49m\u001b[38;5;241;43m*\u001b[39;49m\u001b[43margs\u001b[49m\u001b[43m,\u001b[49m\u001b[43m \u001b[49m\u001b[38;5;241;43m*\u001b[39;49m\u001b[38;5;241;43m*\u001b[39;49m\u001b[43mkwargs\u001b[49m\u001b[43m)\u001b[49m\n",
      "\u001b[0;31mFileNotFoundError\u001b[0m: [Errno 2] No such file or directory: 'file.txt'",
      "\nDuring handling of the above exception, another exception occurred:\n",
      "\u001b[0;31mFileError\u001b[0m                                 Traceback (most recent call last)",
      "Cell \u001b[0;32mIn[5], line 1\u001b[0m\n\u001b[0;32m----> 1\u001b[0m \u001b[43mread_file\u001b[49m\u001b[43m(\u001b[49m\u001b[38;5;124;43m\"\u001b[39;49m\u001b[38;5;124;43mfile.txt\u001b[39;49m\u001b[38;5;124;43m\"\u001b[39;49m\u001b[43m)\u001b[49m\n",
      "Cell \u001b[0;32mIn[4], line 9\u001b[0m, in \u001b[0;36mread_file\u001b[0;34m(filename)\u001b[0m\n\u001b[1;32m      7\u001b[0m         data \u001b[38;5;241m=\u001b[39m f\u001b[38;5;241m.\u001b[39mread()\n\u001b[1;32m      8\u001b[0m \u001b[38;5;28;01mexcept\u001b[39;00m \u001b[38;5;167;01mFileNotFoundError\u001b[39;00m:\n\u001b[0;32m----> 9\u001b[0m     \u001b[38;5;28;01mraise\u001b[39;00m FileError(\u001b[38;5;124mf\u001b[39m\u001b[38;5;124m\"\u001b[39m\u001b[38;5;124mFile not found: \u001b[39m\u001b[38;5;132;01m{\u001b[39;00mfilename\u001b[38;5;132;01m}\u001b[39;00m\u001b[38;5;124m\"\u001b[39m)\n\u001b[1;32m     10\u001b[0m \u001b[38;5;28;01mexcept\u001b[39;00m \u001b[38;5;167;01mIOError\u001b[39;00m:\n\u001b[1;32m     11\u001b[0m     \u001b[38;5;28;01mraise\u001b[39;00m FileError(\u001b[38;5;124mf\u001b[39m\u001b[38;5;124m\"\u001b[39m\u001b[38;5;124mError reading file: \u001b[39m\u001b[38;5;132;01m{\u001b[39;00mfilename\u001b[38;5;132;01m}\u001b[39;00m\u001b[38;5;124m\"\u001b[39m)\n",
      "\u001b[0;31mFileError\u001b[0m: File not found: file.txt"
     ]
    }
   ],
   "source": [
    "read_file(\"file.txt\")"
   ]
  },
  {
   "cell_type": "markdown",
   "id": "44e229d5-7720-4923-96c2-a0993362fb2d",
   "metadata": {},
   "source": [
    "##### Q6.Create a custom exception class.use this class to handle an exception."
   ]
  },
  {
   "cell_type": "code",
   "execution_count": 6,
   "id": "f3c3d959-100c-4c81-b44f-15f29c5b2871",
   "metadata": {},
   "outputs": [],
   "source": [
    "class FileError(Exception):\n",
    "    pass\n",
    "\n",
    "def read_file(filename):\n",
    "    try:\n",
    "        with open(filename, 'r') as f:\n",
    "            data = f.read()\n",
    "    except FileNotFoundError:\n",
    "        raise FileError(f\"File not found: {filename}\")\n",
    "    except IOError:\n",
    "        raise FileError(f\"Error reading file: {filename}\")\n",
    "    else:\n",
    "        return data\n"
   ]
  },
  {
   "cell_type": "code",
   "execution_count": 7,
   "id": "bf1d10d3-c461-4795-9ed2-472320aa0ab0",
   "metadata": {},
   "outputs": [
    {
     "ename": "FileError",
     "evalue": "File not found: file.txt",
     "output_type": "error",
     "traceback": [
      "\u001b[0;31m---------------------------------------------------------------------------\u001b[0m",
      "\u001b[0;31mFileNotFoundError\u001b[0m                         Traceback (most recent call last)",
      "Cell \u001b[0;32mIn[6], line 6\u001b[0m, in \u001b[0;36mread_file\u001b[0;34m(filename)\u001b[0m\n\u001b[1;32m      5\u001b[0m \u001b[38;5;28;01mtry\u001b[39;00m:\n\u001b[0;32m----> 6\u001b[0m     \u001b[38;5;28;01mwith\u001b[39;00m \u001b[38;5;28;43mopen\u001b[39;49m\u001b[43m(\u001b[49m\u001b[43mfilename\u001b[49m\u001b[43m,\u001b[49m\u001b[43m \u001b[49m\u001b[38;5;124;43m'\u001b[39;49m\u001b[38;5;124;43mr\u001b[39;49m\u001b[38;5;124;43m'\u001b[39;49m\u001b[43m)\u001b[49m \u001b[38;5;28;01mas\u001b[39;00m f:\n\u001b[1;32m      7\u001b[0m         data \u001b[38;5;241m=\u001b[39m f\u001b[38;5;241m.\u001b[39mread()\n",
      "File \u001b[0;32m/opt/conda/lib/python3.10/site-packages/IPython/core/interactiveshell.py:282\u001b[0m, in \u001b[0;36m_modified_open\u001b[0;34m(file, *args, **kwargs)\u001b[0m\n\u001b[1;32m    276\u001b[0m     \u001b[38;5;28;01mraise\u001b[39;00m \u001b[38;5;167;01mValueError\u001b[39;00m(\n\u001b[1;32m    277\u001b[0m         \u001b[38;5;124mf\u001b[39m\u001b[38;5;124m\"\u001b[39m\u001b[38;5;124mIPython won\u001b[39m\u001b[38;5;124m'\u001b[39m\u001b[38;5;124mt let you open fd=\u001b[39m\u001b[38;5;132;01m{\u001b[39;00mfile\u001b[38;5;132;01m}\u001b[39;00m\u001b[38;5;124m by default \u001b[39m\u001b[38;5;124m\"\u001b[39m\n\u001b[1;32m    278\u001b[0m         \u001b[38;5;124m\"\u001b[39m\u001b[38;5;124mas it is likely to crash IPython. If you know what you are doing, \u001b[39m\u001b[38;5;124m\"\u001b[39m\n\u001b[1;32m    279\u001b[0m         \u001b[38;5;124m\"\u001b[39m\u001b[38;5;124myou can use builtins\u001b[39m\u001b[38;5;124m'\u001b[39m\u001b[38;5;124m open.\u001b[39m\u001b[38;5;124m\"\u001b[39m\n\u001b[1;32m    280\u001b[0m     )\n\u001b[0;32m--> 282\u001b[0m \u001b[38;5;28;01mreturn\u001b[39;00m \u001b[43mio_open\u001b[49m\u001b[43m(\u001b[49m\u001b[43mfile\u001b[49m\u001b[43m,\u001b[49m\u001b[43m \u001b[49m\u001b[38;5;241;43m*\u001b[39;49m\u001b[43margs\u001b[49m\u001b[43m,\u001b[49m\u001b[43m \u001b[49m\u001b[38;5;241;43m*\u001b[39;49m\u001b[38;5;241;43m*\u001b[39;49m\u001b[43mkwargs\u001b[49m\u001b[43m)\u001b[49m\n",
      "\u001b[0;31mFileNotFoundError\u001b[0m: [Errno 2] No such file or directory: 'file.txt'",
      "\nDuring handling of the above exception, another exception occurred:\n",
      "\u001b[0;31mFileError\u001b[0m                                 Traceback (most recent call last)",
      "Cell \u001b[0;32mIn[7], line 1\u001b[0m\n\u001b[0;32m----> 1\u001b[0m \u001b[43mread_file\u001b[49m\u001b[43m(\u001b[49m\u001b[38;5;124;43m\"\u001b[39;49m\u001b[38;5;124;43mfile.txt\u001b[39;49m\u001b[38;5;124;43m\"\u001b[39;49m\u001b[43m)\u001b[49m\n",
      "Cell \u001b[0;32mIn[6], line 9\u001b[0m, in \u001b[0;36mread_file\u001b[0;34m(filename)\u001b[0m\n\u001b[1;32m      7\u001b[0m         data \u001b[38;5;241m=\u001b[39m f\u001b[38;5;241m.\u001b[39mread()\n\u001b[1;32m      8\u001b[0m \u001b[38;5;28;01mexcept\u001b[39;00m \u001b[38;5;167;01mFileNotFoundError\u001b[39;00m:\n\u001b[0;32m----> 9\u001b[0m     \u001b[38;5;28;01mraise\u001b[39;00m FileError(\u001b[38;5;124mf\u001b[39m\u001b[38;5;124m\"\u001b[39m\u001b[38;5;124mFile not found: \u001b[39m\u001b[38;5;132;01m{\u001b[39;00mfilename\u001b[38;5;132;01m}\u001b[39;00m\u001b[38;5;124m\"\u001b[39m)\n\u001b[1;32m     10\u001b[0m \u001b[38;5;28;01mexcept\u001b[39;00m \u001b[38;5;167;01mIOError\u001b[39;00m:\n\u001b[1;32m     11\u001b[0m     \u001b[38;5;28;01mraise\u001b[39;00m FileError(\u001b[38;5;124mf\u001b[39m\u001b[38;5;124m\"\u001b[39m\u001b[38;5;124mError reading file: \u001b[39m\u001b[38;5;132;01m{\u001b[39;00mfilename\u001b[38;5;132;01m}\u001b[39;00m\u001b[38;5;124m\"\u001b[39m)\n",
      "\u001b[0;31mFileError\u001b[0m: File not found: file.txt"
     ]
    }
   ],
   "source": [
    "read_file(\"file.txt\")"
   ]
  },
  {
   "cell_type": "raw",
   "id": "000c6c50-d592-42e2-9de5-ced4b33488b6",
   "metadata": {},
   "source": [
    "In this example, we have defined a custom exception called FileError by creating a new class that is derived from the built-in Exception class. We have also defined a function called read_file that reads data from a file. If the file does not exist or cannot be opened, the function raises a FileError exception with an appropriate error message."
   ]
  }
 ],
 "metadata": {
  "kernelspec": {
   "display_name": "Python 3 (ipykernel)",
   "language": "python",
   "name": "python3"
  },
  "language_info": {
   "codemirror_mode": {
    "name": "ipython",
    "version": 3
   },
   "file_extension": ".py",
   "mimetype": "text/x-python",
   "name": "python",
   "nbconvert_exporter": "python",
   "pygments_lexer": "ipython3",
   "version": "3.10.8"
  }
 },
 "nbformat": 4,
 "nbformat_minor": 5
}
