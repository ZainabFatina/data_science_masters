{
 "cells": [
  {
   "cell_type": "markdown",
   "id": "82d06eb8-ee89-479c-ad48-165d622cb0f9",
   "metadata": {},
   "source": [
    "##### Q1, Create a vehicle class with an init method having instance variables as name_of_vehicle, max_speed and average_of_vehicle."
   ]
  },
  {
   "cell_type": "code",
   "execution_count": 18,
   "id": "2155e36e-d716-41c2-8ffb-e585b69dcfd3",
   "metadata": {},
   "outputs": [],
   "source": [
    "class vehicle:\n",
    "    def __init__(self,name_of_vehicle,max_speed,average_0f_vehicle):\n",
    "        self.name_of_vehicle=name_of_vehicle\n",
    "        self.max_speed=max_speed\n",
    "        self.average_0f_vehicle=average_0f_vehicle\n",
    "        "
   ]
  },
  {
   "cell_type": "markdown",
   "id": "1f17b88b-d470-4998-8b99-800be5019dde",
   "metadata": {},
   "source": [
    "##### Q2. Create a child class car from the vehicle class created in Que 1, which will inherit the vehicle class.Create a method named seating_capacity which takes capacity as an argument and returns the name ofthe vehicle and its seating capacity."
   ]
  },
  {
   "cell_type": "code",
   "execution_count": 19,
   "id": "4d04262e-1582-4bdd-9754-5d6da95ecd58",
   "metadata": {},
   "outputs": [],
   "source": [
    "class child(vehicle):\n",
    "    \n",
    "    def seating_capacity(self,seating_capacity):\n",
    "        self.seating_capacity=seating_capacity\n",
    "        return self.name_of_vehicle,self.seating_capacity"
   ]
  },
  {
   "cell_type": "code",
   "execution_count": 20,
   "id": "2d7a3386-83a0-4369-9013-f0dcdd975c5e",
   "metadata": {},
   "outputs": [],
   "source": [
    "vehicle1=child(\"vehicle1\",300,170)"
   ]
  },
  {
   "cell_type": "code",
   "execution_count": 21,
   "id": "1fbe3f04-7f3b-4e2a-9711-dc80bf91cd1d",
   "metadata": {},
   "outputs": [
    {
     "data": {
      "text/plain": [
       "('vehicle1', 5)"
      ]
     },
     "execution_count": 28,
     "metadata": {},
     "output_type": "execute_result"
    }
   ],
   "source": [
    "vehicle1.seating_capacity(5)"
   ]
  },
  {
   "cell_type": "markdown",
   "id": "ac97d23f-0296-4bce-8e88-1b052d7f4486",
   "metadata": {},
   "source": [
    "##### Q3. What is multiple inheritance? Write a python code to demonstrate multiple inheritance."
   ]
  },
  {
   "cell_type": "raw",
   "id": "bc1df32e-f572-41af-8a63-b1dee77271df",
   "metadata": {},
   "source": [
    "When a class can be derived from more than one base class this type of inheritance is called multiple inheritance.\n",
    "  A    B\n",
    "    \\ /\n",
    "     C"
   ]
  },
  {
   "cell_type": "code",
   "execution_count": 44,
   "id": "fe7e199b-6a2b-451f-b2ac-c9687391b35b",
   "metadata": {},
   "outputs": [],
   "source": [
    "class Intern:\n",
    "    def __init__(self,name,id_no,college):\n",
    "        self.name=name\n",
    "        self.id_no=id_no\n",
    "        self.college=college\n",
    "class Data_Analyst:\n",
    "    def __init__(self,name,id_no,skills):\n",
    "        self.name=name\n",
    "        self.id_no=id_no\n",
    "        self.skills=skills\n",
    "class Data_Analyst_Intern(Intern,Data_Analyst):\n",
    "        def __init__(self, name, id_no, skills,college):\n",
    "            Intern.__init__(self, name, id_no, college)\n",
    "            Data_Analyst.__init__(self, name, id_no, skills)\n",
    "\n",
    "        def show_details(self):\n",
    "            return self.name,self.id_no,self.skills,self.college\n"
   ]
  },
  {
   "cell_type": "code",
   "execution_count": 45,
   "id": "538ceedd-25b7-4e07-b1f0-723d7a79f187",
   "metadata": {},
   "outputs": [],
   "source": [
    "intern_data_analyst=Data_Analyst_Intern(\"Zainab\",2,\"Python,SQL,PowerBI,Tableau,ML,Excel\",\"MJCET\")"
   ]
  },
  {
   "cell_type": "code",
   "execution_count": 46,
   "id": "cec26fe8-6d60-4f5f-a448-a5ef953c1609",
   "metadata": {},
   "outputs": [
    {
     "data": {
      "text/plain": [
       "('Zainab', 2, 'Python,SQL,PowerBI,Tableau,ML,Excel', 'MJCET')"
      ]
     },
     "execution_count": 46,
     "metadata": {},
     "output_type": "execute_result"
    }
   ],
   "source": [
    "intern_data_analyst.show_details()"
   ]
  },
  {
   "cell_type": "markdown",
   "id": "65e18e5e-e97e-4842-91c3-51dca087b0a6",
   "metadata": {},
   "source": [
    "##### Q4. What are getter and setter in python? Create a class and create a getter and a setter method in this class."
   ]
  },
  {
   "cell_type": "code",
   "execution_count": 56,
   "id": "b8b4f1ef-9bbd-4c03-ab27-5d9f87277265",
   "metadata": {},
   "outputs": [],
   "source": [
    "#property is used to expose aprivate(__)or protected(_) variable to the outer world\n",
    "#setter is used to allow the user to modify them\n",
    "\n",
    "class pwskills:\n",
    "    def __init__(self,course_price,course_name):\n",
    "        self.__course_price=course_price\n",
    "        self.course_name=course_name\n",
    "    @property\n",
    "    def course_price_access(self):\n",
    "        return self.__course_price\n",
    "    @course_price_access.setter\n",
    "    def course_price_set(self,price):\n",
    "        if price<=3500:\n",
    "            pass\n",
    "        else:\n",
    "            self.__course_price=price\n",
    "   "
   ]
  },
  {
   "cell_type": "code",
   "execution_count": 57,
   "id": "5ece66b9-1887-4590-898b-52fd0482cdb1",
   "metadata": {},
   "outputs": [],
   "source": [
    "pw=pwskills(3500,\"data science masters\")"
   ]
  },
  {
   "cell_type": "code",
   "execution_count": 58,
   "id": "f10fc228-b722-4096-b663-904b5702baeb",
   "metadata": {},
   "outputs": [
    {
     "data": {
      "text/plain": [
       "3500"
      ]
     },
     "execution_count": 58,
     "metadata": {},
     "output_type": "execute_result"
    }
   ],
   "source": [
    "pw._pwskills__course_price"
   ]
  },
  {
   "cell_type": "code",
   "execution_count": 59,
   "id": "feaf9c5a-32be-4c1f-bd04-dd778840f39d",
   "metadata": {},
   "outputs": [
    {
     "data": {
      "text/plain": [
       "3500"
      ]
     },
     "execution_count": 59,
     "metadata": {},
     "output_type": "execute_result"
    }
   ],
   "source": [
    "pw.course_price_access"
   ]
  },
  {
   "cell_type": "code",
   "execution_count": 60,
   "id": "b266aa46-ed9d-48dd-a3a2-ff0b5f27db19",
   "metadata": {},
   "outputs": [],
   "source": [
    "pw.course_price_set=4000"
   ]
  },
  {
   "cell_type": "code",
   "execution_count": 61,
   "id": "cc55e491-8036-4f19-92ae-49e370fd15a5",
   "metadata": {},
   "outputs": [
    {
     "data": {
      "text/plain": [
       "4000"
      ]
     },
     "execution_count": 61,
     "metadata": {},
     "output_type": "execute_result"
    }
   ],
   "source": [
    "pw.course_price_access"
   ]
  },
  {
   "cell_type": "markdown",
   "id": "cc22eb0b-2ded-469c-9be9-83a31c417f1d",
   "metadata": {},
   "source": [
    "##### Q5.What is method overriding in python? Write a python code to demonstrate method overriding."
   ]
  },
  {
   "cell_type": "raw",
   "id": "cffe25ef-636e-4004-b04e-f4a0832d8342",
   "metadata": {},
   "source": [
    "Method overriding is a concept in object-oriented programming where a subclass provides a specific implementation for a method that is already defined in its superclass. When a method is overridden, the subclass version of the method takes precedence over the superclass version when called on an object of the subclass."
   ]
  },
  {
   "cell_type": "code",
   "execution_count": null,
   "id": "48dbf636-d454-43b8-8a51-f4191f811244",
   "metadata": {},
   "outputs": [],
   "source": []
  }
 ],
 "metadata": {
  "kernelspec": {
   "display_name": "Python 3 (ipykernel)",
   "language": "python",
   "name": "python3"
  },
  "language_info": {
   "codemirror_mode": {
    "name": "ipython",
    "version": 3
   },
   "file_extension": ".py",
   "mimetype": "text/x-python",
   "name": "python",
   "nbconvert_exporter": "python",
   "pygments_lexer": "ipython3",
   "version": "3.10.8"
  }
 },
 "nbformat": 4,
 "nbformat_minor": 5
}
