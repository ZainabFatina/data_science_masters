{
 "cells": [
  {
   "cell_type": "markdown",
   "id": "9ca22aa2-0c77-4330-8e1f-f9441aa4cff3",
   "metadata": {},
   "source": [
    "###### Consider the below code to answer further questions:"
   ]
  },
  {
   "cell_type": "code",
   "execution_count": 2,
   "id": "fa9cea79-a381-45b2-812c-5b45f87dd99a",
   "metadata": {},
   "outputs": [],
   "source": [
    "import numpy as np\n",
    "list_ = ['1' ,'2','3','4','5']\n",
    "array_list = np.array(object = list_)"
   ]
  },
  {
   "cell_type": "markdown",
   "id": "c9206a38-da95-40e8-b22c-ecf126dfe1cc",
   "metadata": {},
   "source": [
    "###### Q1. Is there any difference in the data type of variables list_ and array_list? If there is then write a code to print the data types of both the variables."
   ]
  },
  {
   "cell_type": "code",
   "execution_count": 7,
   "id": "240260ab-16e9-44a6-a829-ec9d29a78b7c",
   "metadata": {},
   "outputs": [
    {
     "name": "stdout",
     "output_type": "stream",
     "text": [
      "<class 'list'>\n",
      "<class 'numpy.ndarray'>\n"
     ]
    }
   ],
   "source": [
    "#There is difference\n",
    "print(type(list_ ))\n",
    "print(type(array_list))"
   ]
  },
  {
   "cell_type": "markdown",
   "id": "fc73ec6a-d5a7-4e10-9e7b-ecbea88cc49e",
   "metadata": {},
   "source": [
    "###### Q2. Write a code to print the data type of each and every element of both the variables list_ and array_ list."
   ]
  },
  {
   "cell_type": "code",
   "execution_count": 11,
   "id": "76b7d84e-05b2-465a-a029-d0ffc4cf6941",
   "metadata": {},
   "outputs": [
    {
     "name": "stdout",
     "output_type": "stream",
     "text": [
      "<class 'str'>\n",
      "<class 'str'>\n",
      "<class 'str'>\n",
      "<class 'str'>\n",
      "<class 'str'>\n"
     ]
    }
   ],
   "source": [
    "#printing data type of elements in list_\n",
    "for element in list_:\n",
    "    print(type(element))"
   ]
  },
  {
   "cell_type": "code",
   "execution_count": 13,
   "id": "a9162653-193d-4587-ac2d-e9dd9cd014b8",
   "metadata": {},
   "outputs": [
    {
     "name": "stdout",
     "output_type": "stream",
     "text": [
      "<class 'numpy.str_'>\n",
      "<class 'numpy.str_'>\n",
      "<class 'numpy.str_'>\n",
      "<class 'numpy.str_'>\n",
      "<class 'numpy.str_'>\n"
     ]
    }
   ],
   "source": [
    "#printing data type of elements in array_list\n",
    "for element in array_list:\n",
    "    print(type(element))"
   ]
  },
  {
   "cell_type": "markdown",
   "id": "a83dd637-529f-4e2a-a40f-cde4fd6d67c7",
   "metadata": {},
   "source": [
    "###### Q3. Considering the following changes in the variable, array_list:"
   ]
  },
  {
   "cell_type": "code",
   "execution_count": 15,
   "id": "118391ab-b25f-4c52-9176-fa086f92b4e6",
   "metadata": {},
   "outputs": [],
   "source": [
    "array_list = np.array(object = list_, dtype = int)"
   ]
  },
  {
   "cell_type": "markdown",
   "id": "151547cd-1201-4e9f-a026-155836327476",
   "metadata": {},
   "source": [
    "###### Will there be any difference in the data type of the elements present in both the variables, list_ and\n",
    "###### array_list? If so then print the data types of each and every element present in both the variables, list_\n",
    "###### and arrya_list.\n"
   ]
  },
  {
   "cell_type": "code",
   "execution_count": 16,
   "id": "5ba634cf-b375-4a33-aa88-01a05070b353",
   "metadata": {},
   "outputs": [
    {
     "name": "stdout",
     "output_type": "stream",
     "text": [
      "<class 'str'>\n",
      "<class 'str'>\n",
      "<class 'str'>\n",
      "<class 'str'>\n",
      "<class 'str'>\n"
     ]
    }
   ],
   "source": [
    "#yes there is a difference\n",
    "for element in list_:\n",
    "    print(type(element))"
   ]
  },
  {
   "cell_type": "code",
   "execution_count": 17,
   "id": "e8f66adc-b2f3-42bf-aaaf-fb111ae94696",
   "metadata": {},
   "outputs": [
    {
     "name": "stdout",
     "output_type": "stream",
     "text": [
      "<class 'numpy.int64'>\n",
      "<class 'numpy.int64'>\n",
      "<class 'numpy.int64'>\n",
      "<class 'numpy.int64'>\n",
      "<class 'numpy.int64'>\n"
     ]
    }
   ],
   "source": [
    "for element in array_list:\n",
    "    print(type(element))"
   ]
  },
  {
   "cell_type": "markdown",
   "id": "8d14524e-9ef6-43a6-bd61-5b10d0593e3e",
   "metadata": {},
   "source": [
    "###### Consider the below code to answer further questions:"
   ]
  },
  {
   "cell_type": "code",
   "execution_count": 14,
   "id": "5e57438b-dbfb-4597-b204-11be902f03c5",
   "metadata": {},
   "outputs": [],
   "source": [
    "import numpy as np\n",
    "num_list = [ [ 1 , 2 , 3 ] , [ 4 , 5 , 6 ] ]\n",
    "num_array = np.array(object = num_list)"
   ]
  },
  {
   "cell_type": "markdown",
   "id": "78f6a3b4-031e-41ce-a3a0-c1bc4aabfbb4",
   "metadata": {},
   "source": [
    "###### Q4. Write a code to find the following characteristics of variable, num_array:\n",
    "###### (i) shape\n",
    "###### (ii) size"
   ]
  },
  {
   "cell_type": "code",
   "execution_count": 24,
   "id": "0664d66c-752a-41d5-aacc-816610b47854",
   "metadata": {},
   "outputs": [
    {
     "data": {
      "text/plain": [
       "6"
      ]
     },
     "execution_count": 24,
     "metadata": {},
     "output_type": "execute_result"
    }
   ],
   "source": [
    "np.size(num_array)"
   ]
  },
  {
   "cell_type": "code",
   "execution_count": 25,
   "id": "5924ec69-4f81-4128-81d5-c57a144023fe",
   "metadata": {},
   "outputs": [
    {
     "data": {
      "text/plain": [
       "(2, 3)"
      ]
     },
     "execution_count": 25,
     "metadata": {},
     "output_type": "execute_result"
    }
   ],
   "source": [
    "np.shape(num_array)"
   ]
  },
  {
   "cell_type": "markdown",
   "id": "6919437d-d0a0-4e16-8e93-9e559fcbddd9",
   "metadata": {},
   "source": [
    "###### Q5. Write a code to create numpy array of 3*3 matrix containing zeros only, using a numpy array\n",
    "###### creation function.\n",
    "###### [Hint: The size of the array will be 9 and the shape will be (3,3).]"
   ]
  },
  {
   "cell_type": "code",
   "execution_count": 26,
   "id": "14fb8dbd-95dc-42bb-9768-e91218547cd7",
   "metadata": {},
   "outputs": [
    {
     "data": {
      "text/plain": [
       "array([[0., 0., 0.],\n",
       "       [0., 0., 0.],\n",
       "       [0., 0., 0.]])"
      ]
     },
     "execution_count": 26,
     "metadata": {},
     "output_type": "execute_result"
    }
   ],
   "source": [
    "np.zeros((3,3))"
   ]
  },
  {
   "cell_type": "markdown",
   "id": "e268458c-6e18-4fb9-9317-201fd7be25f5",
   "metadata": {},
   "source": [
    "###### Q6. Create an identity matrix of shape (5,5) using numpy functions?\n",
    "###### [Hint: An identity matrix is a matrix containing 1 diagonally and other elements will be 0.]"
   ]
  },
  {
   "cell_type": "code",
   "execution_count": 33,
   "id": "92c83936-c026-4a6f-8082-780eef0e1319",
   "metadata": {},
   "outputs": [
    {
     "data": {
      "text/plain": [
       "array([[1, 0, 0, 0, 0],\n",
       "       [0, 1, 0, 0, 0],\n",
       "       [0, 0, 1, 0, 0],\n",
       "       [0, 0, 0, 1, 0],\n",
       "       [0, 0, 0, 0, 1]])"
      ]
     },
     "execution_count": 33,
     "metadata": {},
     "output_type": "execute_result"
    }
   ],
   "source": [
    "np.diag([1,1,1,1,1])"
   ]
  },
  {
   "cell_type": "code",
   "execution_count": null,
   "id": "3498031a-16b8-4ade-9650-95095b541673",
   "metadata": {},
   "outputs": [],
   "source": []
  }
 ],
 "metadata": {
  "kernelspec": {
   "display_name": "Python 3 (ipykernel)",
   "language": "python",
   "name": "python3"
  },
  "language_info": {
   "codemirror_mode": {
    "name": "ipython",
    "version": 3
   },
   "file_extension": ".py",
   "mimetype": "text/x-python",
   "name": "python",
   "nbconvert_exporter": "python",
   "pygments_lexer": "ipython3",
   "version": "3.10.8"
  }
 },
 "nbformat": 4,
 "nbformat_minor": 5
}
