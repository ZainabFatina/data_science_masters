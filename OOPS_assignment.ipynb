{
 "cells": [
  {
   "cell_type": "markdown",
   "id": "5eff2ec7-d83e-4ea4-8493-a6ad9e008439",
   "metadata": {},
   "source": [
    "##### Q1. Explain Class and Object with respect to Object-Oriented Programming. Give a suitable example."
   ]
  },
  {
   "cell_type": "raw",
   "id": "31e59493-b928-4a11-b7a8-df4238d85db9",
   "metadata": {},
   "source": [
    "Class:A class is a blueprint or a classification of a real world entity.\n",
    "Object:An object is a real world entity or an instance of a class.\n",
    "Ex:Consider a class 'Employee' ,Objects or instances of this class can be 'Software_Engineer','Data_Scientist','Manager','Accountant' etc."
   ]
  },
  {
   "cell_type": "markdown",
   "id": "74c39399-ff72-463c-a1bd-c5cdee4a5b06",
   "metadata": {},
   "source": [
    "##### Q2. Name the four pillars of OOPs."
   ]
  },
  {
   "cell_type": "raw",
   "id": "24b0fa53-4665-4896-bf08-e1cdfb3eaba9",
   "metadata": {},
   "source": [
    "Pillars of OOPS:\n",
    "1.Polymorphism:Polymorphism means multiple forms. In python we can find the same operator or function taking multiple forms.\n",
    "2.Encapsulation:Encapsulation refers to hiding implementation details from users.\n",
    "3.Inheritence:Using Inheritence A child class can access the properties of a Parent class.\n",
    "4.Abstraction:An abstract class acts as a blue print for other objects."
   ]
  },
  {
   "cell_type": "markdown",
   "id": "c336fe37-bbdd-47f3-ac60-26b95c1ae86c",
   "metadata": {},
   "source": [
    "##### Q3. Explain why the __ init __() function is used. Give a suitable example."
   ]
  },
  {
   "cell_type": "raw",
   "id": "b8b0a65b-ea8e-4ee5-bd6c-705464e44a72",
   "metadata": {},
   "source": [
    "--> __init__() is a constructor its a magical/dunder method in python.\n",
    "--> __init__() method is used to pass data of an instance to the class.The task of __init__() is to initialize(assign values) to the data members of the class when an object of the class is created.\n"
   ]
  },
  {
   "cell_type": "markdown",
   "id": "f70e94db-8abf-4220-9be0-5d296de4ebb6",
   "metadata": {},
   "source": [
    "##### Q4. Why self is used in OOPs?"
   ]
  },
  {
   "cell_type": "raw",
   "id": "8ade897d-bec2-4869-93e7-b636021a2fd6",
   "metadata": {},
   "source": [
    "--> self keyword acts as a reference pointer of a function to a class.\n",
    "--> self represents the instance of the class. By using the “self” we can access the attributes and methods of the class in python. It binds the attributes with the given arguments.\n",
    "--> self should be the  first parameter of any function.self is not a reserved keyword any string can be used instead of self."
   ]
  },
  {
   "cell_type": "markdown",
   "id": "9ff41c45-777e-4c63-94c3-ef1769a56e15",
   "metadata": {},
   "source": [
    "##### Q5. What is inheritance? Give an example for each type of inheritance."
   ]
  },
  {
   "cell_type": "raw",
   "id": "e2e24fe9-f978-4d8b-942f-49ceb7585044",
   "metadata": {},
   "source": [
    "Inheritence:Using Inheritence A child class ia able to access the properties of a Parent class.\n",
    "Types of Inheritence:\n",
    "1.Single Inheritence:A single child class inherits properties of a  parent class.\n",
    " parent class\n",
    "      |\n",
    " Child class\n",
    "2.Hierarchical Inheritance:Multiple child classes inherit parent class.\n",
    "          parent class\n",
    "          /     |     \\\n",
    "      child   child   child\n",
    "      class1  class2  class3\n",
    "3.Multilevel inheritence:In multilevel inheritance, features of the base class and the derived class are further inherited into the new derived class\n",
    "  class1\n",
    "     |\n",
    "  class2\n",
    "     |\n",
    "  class3\n",
    "4.When a class can be derived from more than one base class this type of inheritance is called multiple inheritance.\n",
    "  A    B\n",
    "    \\ /\n",
    "     C\n",
    "5.Hybrid Inheritence:Inheritance consisting of multiple types of inheritance is called hybrid inheritance.\n",
    "      A   B\n",
    "     /  \\ /\n",
    "     D   C\n",
    "    / \\\n",
    "   E   F"
   ]
  },
  {
   "cell_type": "code",
   "execution_count": null,
   "id": "5c31473d-1e6d-40ed-abdf-7cb5e02937fc",
   "metadata": {},
   "outputs": [],
   "source": []
  }
 ],
 "metadata": {
  "kernelspec": {
   "display_name": "Python 3 (ipykernel)",
   "language": "python",
   "name": "python3"
  },
  "language_info": {
   "codemirror_mode": {
    "name": "ipython",
    "version": 3
   },
   "file_extension": ".py",
   "mimetype": "text/x-python",
   "name": "python",
   "nbconvert_exporter": "python",
   "pygments_lexer": "ipython3",
   "version": "3.10.8"
  }
 },
 "nbformat": 4,
 "nbformat_minor": 5
}
