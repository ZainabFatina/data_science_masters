{
 "cells": [
  {
   "cell_type": "markdown",
   "id": "44c211fd-e645-404a-a727-f6ae369ab132",
   "metadata": {},
   "source": [
    "##### Q1. What is multiprocessing in python? Why is it useful?"
   ]
  },
  {
   "cell_type": "markdown",
   "id": "fe37bcd7-2448-4765-b3b5-693bfc26edda",
   "metadata": {},
   "source": [
    "###### Multiprocessing in Python refers to the technique of running multiple processes in parallel to achieve concurrent execution. It allows you to take advantage of multiple CPU cores to perform tasks simultaneously. Multiprocessing is useful in Python for several reasons:"
   ]
  },
  {
   "cell_type": "markdown",
   "id": "bb4cad5c-5362-41de-80be-70dea566de2b",
   "metadata": {},
   "source": [
    "###### 1.Improved Performance: Multiprocessing is beneficial for CPU-bound tasks that can be parallelized. By utilizing multiple CPU cores, you can significantly improve the performance and reduce the execution time of your programs.\n",
    "###### 2.Concurrency: Multiprocessing allows you to run multiple tasks concurrently, making it easier to handle I/O-bound operations, such as reading and writing files, making network requests, and processing data from various sources simultaneously.\n",
    "###### 3.Isolation: Each process in multiprocessing runs in its own isolated memory space, which means that processes do not share memory like threads do."
   ]
  },
  {
   "cell_type": "markdown",
   "id": "45a48b17-701a-44d2-b6e9-da1c0e6fd08b",
   "metadata": {},
   "source": [
    "##### Q2. What are the differences between multiprocessing and multithreading?"
   ]
  },
  {
   "cell_type": "markdown",
   "id": "08c4049d-4f26-4cfd-9307-81e3c10a0fd7",
   "metadata": {
    "tags": []
   },
   "source": [
    "###### Here are the key differences between multiprocessing and multithreading:\n",
    "\n",
    "###### Concurrency Model:\n",
    "  - Multiprocessing: Uses multiple processes, each with its own memory space.\n",
    "  - Multithreading: Uses multiple threads within a single process, sharing the same memory space.\n",
    "\n",
    "###### Resource Isolation:\n",
    "  - Multiprocessing: Provides stronger isolation, reducing the risk of shared data issues.\n",
    "  - Multithreading: Shares memory and can lead to race conditions and deadlocks.\n",
    "\n",
    "###### CPU Utilization:\n",
    "  - Multiprocessing: Utilizes multiple CPU cores effectively for CPU-bound tasks.\n",
    "  - Multithreading: More suitable for I/O-bound tasks but limited by Python's Global Interpreter Lock (GIL).\n",
    "\n",
    "###### Complexity:\n",
    "  - Multiprocessing: Requires more communication between processes, making it more complex.\n",
    "  - Multithreading: Simpler communication between threads but more complex synchronization.\n",
    "\n",
    "###### Fault Tolerance:\n",
    "  - Multiprocessing: Offers better fault tolerance since a crash in one process doesn't affect others.\n",
    "  - Multithreading: A crash in one thread can affect the entire process.\n",
    "\n",
    "###### Compatibility:\n",
    "  - Multiprocessing: Suitable for both CPU-bound and I/O-bound tasks.\n",
    "  - Multithreading: Better for I/O-bound tasks due to the GIL, less effective for CPU-bound tasks.\n",
    "\n",
    "###### Programming Model:\n",
    "  - Multiprocessing: Uses the `multiprocessing` module in Python.\n",
    "  - Multithreading: Uses the `threading` module in Python."
   ]
  },
  {
   "cell_type": "markdown",
   "id": "6611b9f1-f177-4f27-881c-097ee65a3f16",
   "metadata": {},
   "source": [
    "##### Q3. Write a python code to create a process using the multiprocessing module."
   ]
  },
  {
   "cell_type": "markdown",
   "id": "4fee4ce6-3018-4df9-bca2-e8c005281aa9",
   "metadata": {},
   "source": [
    "###### To create a process using the multiprocessing module in Python, you can use the Process class. Here's an example of how to create a simple process:"
   ]
  },
  {
   "cell_type": "code",
   "execution_count": 1,
   "id": "570ccd7b-20b1-42a9-9a47-596ae616db7a",
   "metadata": {},
   "outputs": [
    {
     "name": "stdout",
     "output_type": "stream",
     "text": [
      "Number 1\n",
      "Number 2\n",
      "Number 3\n",
      "Number 4\n",
      "Number 5\n",
      "Process has finished.\n"
     ]
    }
   ],
   "source": [
    "import multiprocessing\n",
    "\n",
    "def print_numbers():\n",
    "    for i in range(1, 6):\n",
    "        print(f\"Number {i}\")\n",
    "\n",
    "if __name__ == \"__main__\":\n",
    "    # Create a new process\n",
    "    process = multiprocessing.Process(target=print_numbers)\n",
    "\n",
    "    # Start the process\n",
    "    process.start()\n",
    "\n",
    "    # Wait for the process to finish\n",
    "    process.join()\n",
    "\n",
    "    print(\"Process has finished.\")\n"
   ]
  },
  {
   "cell_type": "markdown",
   "id": "8ecad759-03de-4cb1-8c5c-72253179c117",
   "metadata": {},
   "source": [
    "##### Q4. What is a multiprocessing pool in python? Why is it used?"
   ]
  },
  {
   "cell_type": "markdown",
   "id": "e1339f7e-b140-4b0a-a472-54e8097c6f35",
   "metadata": {},
   "source": [
    "###### A multiprocessing pool in Python, often represented by the multiprocessing.Pool class, is a high-level interface for parallelizing the execution of a function across multiple processes. It is used to distribute and manage tasks among a pool of worker processes, making it easier to harness the power of multiple CPU cores for parallel processing. The multiprocessing.Pool class provides a simple and efficient way to create and manage a pool of worker processes."
   ]
  },
  {
   "cell_type": "markdown",
   "id": "92cb25ef-0618-44ea-981b-55758003468e",
   "metadata": {},
   "source": [
    "##### Q5. How can we create a pool of worker processes in python using the multiprocessing module?"
   ]
  },
  {
   "cell_type": "markdown",
   "id": "62cf5441-2f3d-490a-b462-e13154de5077",
   "metadata": {},
   "source": [
    "###### You can create a pool of worker processes in Python using the multiprocessing module's Pool class. The Pool class allows you to manage a group of worker processes for parallel execution of tasks. Here's how you can create a pool of worker processes:"
   ]
  },
  {
   "cell_type": "code",
   "execution_count": 2,
   "id": "e316d4c7-70e4-46bb-a6a9-b11142ca19b6",
   "metadata": {},
   "outputs": [
    {
     "name": "stdout",
     "output_type": "stream",
     "text": [
      "[1, 4, 9, 16, 25]\n"
     ]
    }
   ],
   "source": [
    "import multiprocessing\n",
    "\n",
    "def square(x):\n",
    "    return x * x\n",
    "\n",
    "if __name__ == \"__main__\":\n",
    "    data = [1, 2, 3, 4, 5]\n",
    "    \n",
    "    # Create a multiprocessing pool with 2 worker processes\n",
    "    with multiprocessing.Pool(processes=2) as pool:\n",
    "        results = pool.map(square, data)\n",
    "    \n",
    "    print(results)\n"
   ]
  },
  {
   "cell_type": "markdown",
   "id": "06d83a8c-e865-4360-9702-3800fbb5dbe8",
   "metadata": {},
   "source": [
    "##### Q6. Write a python program to create 4 processes, each process should print a different number using the multiprocessing module in python."
   ]
  },
  {
   "cell_type": "markdown",
   "id": "1bff6865-896c-4f1b-a413-d731fdb4f179",
   "metadata": {},
   "source": [
    "###### Here's a Python program that creates four processes, and each process prints a different number using the multiprocessing module:"
   ]
  },
  {
   "cell_type": "code",
   "execution_count": 3,
   "id": "a8d2f200-3252-4d13-8cda-f9109ff5af90",
   "metadata": {},
   "outputs": [
    {
     "name": "stdout",
     "output_type": "stream",
     "text": [
      "Process 4: Printing number 4Process 1: Printing number 1Process 2: Printing number 2Process 3: Printing number 3\n",
      "\n",
      "\n",
      "\n"
     ]
    }
   ],
   "source": [
    "import multiprocessing\n",
    "\n",
    "def print_number(number):\n",
    "    print(f\"Process {number}: Printing number {number}\")\n",
    "\n",
    "if __name__ == \"__main__\":\n",
    "    # Create a list of numbers (1 to 4)\n",
    "    numbers = [1, 2, 3, 4]\n",
    "\n",
    "    # Create a multiprocessing pool with 4 worker processes\n",
    "    with multiprocessing.Pool(processes=4) as pool:\n",
    "        # Use the map method to distribute the print_number function to worker processes\n",
    "        pool.map(print_number, numbers)\n"
   ]
  },
  {
   "cell_type": "code",
   "execution_count": null,
   "id": "5b5cbd13-16f3-4d46-8c99-9f1462913e22",
   "metadata": {},
   "outputs": [],
   "source": []
  }
 ],
 "metadata": {
  "kernelspec": {
   "display_name": "Python 3 (ipykernel)",
   "language": "python",
   "name": "python3"
  },
  "language_info": {
   "codemirror_mode": {
    "name": "ipython",
    "version": 3
   },
   "file_extension": ".py",
   "mimetype": "text/x-python",
   "name": "python",
   "nbconvert_exporter": "python",
   "pygments_lexer": "ipython3",
   "version": "3.10.8"
  }
 },
 "nbformat": 4,
 "nbformat_minor": 5
}
