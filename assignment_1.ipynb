{
 "cells": [
  {
   "cell_type": "markdown",
   "id": "a997c5cf-fa7a-4bad-9f4b-2a0bab4b931b",
   "metadata": {},
   "source": [
    "Q1. Create one variable containing following type of data:\n",
    "(i) string\n",
    "(ii) list\n",
    "(iii) float\n",
    "(iv) tuple"
   ]
  },
  {
   "cell_type": "code",
   "execution_count": 1,
   "id": "dbd054cf-5a0e-4197-aa49-a8ee37a53d9b",
   "metadata": {},
   "outputs": [],
   "source": [
    "my_string=\"zainab\"\n",
    "my_list=[\"zainab\",7,True,7+9j]\n",
    "my_float=0.14\n",
    "my_tuple=(\"apple\",\"banana\",\"apple\",\"cherry\")\n",
    "       "
   ]
  },
  {
   "cell_type": "markdown",
   "id": "4e02d54b-6894-4c3a-b30c-96b285a30085",
   "metadata": {},
   "source": [
    "Q2. Given are some following variables containing data:\n",
    "(i) var1 = ''\n",
    "(ii) var2 = '[ DS , ML , Python]'\n",
    "(iii) var3 = [ 'DS', 'ML' , 'Python' ]\n",
    "(iv) var4 = 1\n",
    "What will be the data type of the above given variable."
   ]
  },
  {
   "cell_type": "code",
   "execution_count": 2,
   "id": "200faf6d-a401-4d6e-862c-e423c6a082c3",
   "metadata": {},
   "outputs": [
    {
     "name": "stdout",
     "output_type": "stream",
     "text": [
      "Type of var1 is: <class 'str'>\n",
      "Type of var2 is: <class 'str'>\n",
      "Type of var3 is: <class 'list'>\n",
      "Type of var4 is: <class 'int'>\n"
     ]
    }
   ],
   "source": [
    "var1=''\n",
    "var2='[ DS , ML , Python]'\n",
    "var3=['DS', 'ML' , 'Python' ]\n",
    "var4 = 1\n",
    "print(\"Type of var1 is:\",type(var1))\n",
    "print(\"Type of var2 is:\",type(var2))\n",
    "print(\"Type of var3 is:\",type(var3))\n",
    "print(\"Type of var4 is:\",type(var4))\n"
   ]
  },
  {
   "cell_type": "markdown",
   "id": "bf5be3ac-b144-4f33-8946-fdcdc036d6bc",
   "metadata": {},
   "source": [
    "Q3. Explain the use of the following operators using an example:\n",
    "(i) /\n",
    "(ii) %\n",
    "(iii) //\n",
    "(iv) **"
   ]
  },
  {
   "cell_type": "code",
   "execution_count": 3,
   "id": "e5c66d3a-74bd-477a-b48f-0b3dfd000035",
   "metadata": {},
   "outputs": [
    {
     "data": {
      "text/plain": [
       "1.3333333333333333"
      ]
     },
     "execution_count": 3,
     "metadata": {},
     "output_type": "execute_result"
    }
   ],
   "source": [
    "# (i)\n",
    "# / is used for division\n",
    "# ex:on dividing 8 by 6 we get quotient as 1.3333333333333333\n",
    "8/6"
   ]
  },
  {
   "cell_type": "code",
   "execution_count": 4,
   "id": "344b1f3e-9bdc-4a0f-af32-6eceb45942bf",
   "metadata": {},
   "outputs": [
    {
     "data": {
      "text/plain": [
       "2"
      ]
     },
     "execution_count": 4,
     "metadata": {},
     "output_type": "execute_result"
    }
   ],
   "source": [
    "# (ii)\n",
    "# % is remainder operator \n",
    "# ex:on dividing 8 by 6 we get remainder as 2\n",
    "8%6"
   ]
  },
  {
   "cell_type": "code",
   "execution_count": 5,
   "id": "97dd895e-a10b-46b0-9db2-04a836cdf7b2",
   "metadata": {},
   "outputs": [
    {
     "data": {
      "text/plain": [
       "1"
      ]
     },
     "execution_count": 5,
     "metadata": {},
     "output_type": "execute_result"
    }
   ],
   "source": [
    "# (iii)\n",
    "# // is used for floor division \n",
    "# ex:on dividing 8 by 6 we get quotient as 1.3333333333333333 on rounding it to nearest integer its 1.\n",
    "\n",
    "8//6"
   ]
  },
  {
   "cell_type": "code",
   "execution_count": 6,
   "id": "b1f4fdf9-61ad-4292-a6c2-0a0a135e9be1",
   "metadata": {},
   "outputs": [
    {
     "data": {
      "text/plain": [
       "262144"
      ]
     },
     "execution_count": 6,
     "metadata": {},
     "output_type": "execute_result"
    }
   ],
   "source": [
    "# (iv)\n",
    "# ** is used for calculating the power\n",
    "# ex:8 to the power 6 is 262144\n",
    "\n",
    "8**6"
   ]
  },
  {
   "cell_type": "markdown",
   "id": "5b4f45ad-7e63-46a9-b127-5076954d0ab5",
   "metadata": {},
   "source": [
    "Q4. Create a list of length 10 of your choice containing multiple types of data. Using for loop print the\n",
    "element and its data type."
   ]
  },
  {
   "cell_type": "code",
   "execution_count": 7,
   "id": "040de597-3b6d-45cb-9b18-10871b4d4d44",
   "metadata": {},
   "outputs": [
    {
     "name": "stdout",
     "output_type": "stream",
     "text": [
      "10 <class 'int'>\n",
      "30 <class 'int'>\n",
      "79 <class 'int'>\n",
      "87 <class 'int'>\n",
      "True <class 'bool'>\n",
      "False <class 'bool'>\n",
      "(3+7j) <class 'complex'>\n",
      "(9+8j) <class 'complex'>\n",
      "Apple <class 'str'>\n",
      "Banana <class 'str'>\n"
     ]
    }
   ],
   "source": [
    "my_list=[10,30,79,87,True,False,3+7j,9+8j,\"Apple\",\"Banana\"]\n",
    "for i in my_list:\n",
    "    print(i,type(i))"
   ]
  },
  {
   "cell_type": "markdown",
   "id": "20e08db5-0700-4528-8c6e-67cca9793821",
   "metadata": {},
   "source": [
    "Q5. Using a while loop, verify if the number A is purely divisible by number B and if so then how many\n",
    "times it can be divisible."
   ]
  },
  {
   "cell_type": "code",
   "execution_count": 14,
   "id": "2e0bca92-b844-4450-95db-10219ec48ce5",
   "metadata": {},
   "outputs": [
    {
     "name": "stdin",
     "output_type": "stream",
     "text": [
      "Enter value for A: 8\n",
      "Enter value for B: 4\n"
     ]
    },
    {
     "name": "stdout",
     "output_type": "stream",
     "text": [
      "A is purely divisible by B\n",
      "Quotient is equal to: 2\n"
     ]
    }
   ],
   "source": [
    "A=int(input(\"Enter value for A:\"))\n",
    "B=int(input(\"Enter value for B:\"))\n",
    "quotient=0\n",
    "while A>=B:\n",
    "    A-=B\n",
    "    quotient+=1\n",
    "if A==0:\n",
    "    print(\"A is purely divisible by B\")\n",
    "    print(\"Quotient is equal to:\",quotient)\n",
    "else:\n",
    " print(\"A is not purely divisible by B\")"
   ]
  },
  {
   "cell_type": "markdown",
   "id": "a673b8e1-3f66-4dc7-9a89-fa48bbb9afb6",
   "metadata": {},
   "source": [
    "Q6. Create a list containing 25 int type data. Using for loop and if-else condition print if the element is\n",
    "divisible by 3 or not."
   ]
  },
  {
   "cell_type": "code",
   "execution_count": 9,
   "id": "eca330ce-7008-4f1b-9bd4-e71a0d2da716",
   "metadata": {},
   "outputs": [
    {
     "name": "stdout",
     "output_type": "stream",
     "text": [
      "5  is not divisible by 3\n",
      "6  is divisible by 3\n",
      "7  is not divisible by 3\n",
      "8  is not divisible by 3\n",
      "9  is divisible by 3\n",
      "10  is not divisible by 3\n",
      "11  is not divisible by 3\n",
      "12  is divisible by 3\n",
      "13  is not divisible by 3\n",
      "14  is not divisible by 3\n",
      "15  is divisible by 3\n",
      "16  is not divisible by 3\n",
      "17  is not divisible by 3\n",
      "18  is divisible by 3\n",
      "19  is not divisible by 3\n",
      "20  is not divisible by 3\n",
      "21  is divisible by 3\n",
      "22  is not divisible by 3\n",
      "23  is not divisible by 3\n",
      "24  is divisible by 3\n",
      "25  is not divisible by 3\n",
      "26  is not divisible by 3\n",
      "27  is divisible by 3\n",
      "28  is not divisible by 3\n",
      "29  is not divisible by 3\n"
     ]
    }
   ],
   "source": [
    "my_list=list(range(5,30))\n",
    "for i in my_list:\n",
    "    if i%3==0:\n",
    "        print(i,\" is divisible by 3\")\n",
    "    else:\n",
    "        print(i,\" is not divisible by 3\")"
   ]
  },
  {
   "cell_type": "markdown",
   "id": "359ce4f1-3659-4444-85ce-7e5596fe2ebf",
   "metadata": {},
   "source": [
    "Q7. What do you understand about mutable and immutable data types? Give examples for both showing\n",
    "this property."
   ]
  },
  {
   "cell_type": "code",
   "execution_count": 10,
   "id": "cdfc20b8-bb34-49ab-8c62-2a6c8e50cde6",
   "metadata": {},
   "outputs": [
    {
     "name": "stdout",
     "output_type": "stream",
     "text": [
      "[12, True, (7+4j), 'class']\n"
     ]
    },
    {
     "ename": "TypeError",
     "evalue": "'str' object does not support item assignment",
     "output_type": "error",
     "traceback": [
      "\u001b[0;31m---------------------------------------------------------------------------\u001b[0m",
      "\u001b[0;31mTypeError\u001b[0m                                 Traceback (most recent call last)",
      "Cell \u001b[0;32mIn[10], line 8\u001b[0m\n\u001b[1;32m      6\u001b[0m \u001b[38;5;66;03m#string-immutable\u001b[39;00m\n\u001b[1;32m      7\u001b[0m s\u001b[38;5;241m=\u001b[39m\u001b[38;5;124m\"\u001b[39m\u001b[38;5;124mstring\u001b[39m\u001b[38;5;124m\"\u001b[39m\n\u001b[0;32m----> 8\u001b[0m \u001b[43ms\u001b[49m\u001b[43m[\u001b[49m\u001b[38;5;241;43m0\u001b[39;49m\u001b[43m]\u001b[49m\u001b[38;5;241m=\u001b[39m\u001b[38;5;124m\"\u001b[39m\u001b[38;5;124mj\u001b[39m\u001b[38;5;124m\"\u001b[39m\n",
      "\u001b[0;31mTypeError\u001b[0m: 'str' object does not support item assignment"
     ]
    }
   ],
   "source": [
    "#Mutability:Ability to change data at a particular index of a datatype.ex:object of string datatype is a immutable object,while list is mutable.\n",
    "#List-mutable\n",
    "l=[12,True,7+9j,\"class\"]\n",
    "l[2]=7+4j\n",
    "print(l)\n",
    "#string-immutable\n",
    "s=\"string\"\n",
    "s[0]=\"j\""
   ]
  },
  {
   "cell_type": "code",
   "execution_count": null,
   "id": "d5007010-2903-4afb-be39-3331f4767f31",
   "metadata": {},
   "outputs": [],
   "source": []
  }
 ],
 "metadata": {
  "kernelspec": {
   "display_name": "Python 3 (ipykernel)",
   "language": "python",
   "name": "python3"
  },
  "language_info": {
   "codemirror_mode": {
    "name": "ipython",
    "version": 3
   },
   "file_extension": ".py",
   "mimetype": "text/x-python",
   "name": "python",
   "nbconvert_exporter": "python",
   "pygments_lexer": "ipython3",
   "version": "3.10.8"
  }
 },
 "nbformat": 4,
 "nbformat_minor": 5
}
