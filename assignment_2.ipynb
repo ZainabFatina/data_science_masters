{
 "cells": [
  {
   "cell_type": "markdown",
   "id": "7598eece-9f78-4839-86dc-2b6358593b68",
   "metadata": {},
   "source": [
    "#### Q1. How do you comment code in Python? What are the different types of comments?"
   ]
  },
  {
   "cell_type": "raw",
   "id": "0d1c1f6c-2b91-47c0-833c-c6bf4ca31263",
   "metadata": {},
   "source": [
    "There are two main types of comments in Python:\n",
    "1.Single-line comments: To create a single-line comment, you can use the hash symbol (#) followed by the comment text. Everything after the hash symbol on the same line will be considered a comment.\n"
   ]
  },
  {
   "cell_type": "code",
   "execution_count": 1,
   "id": "37c85808-d242-495f-9598-31d78612046f",
   "metadata": {},
   "outputs": [
    {
     "name": "stdout",
     "output_type": "stream",
     "text": [
      "Hello, World!\n"
     ]
    }
   ],
   "source": [
    "# This is a single-line comment in Python\n",
    "print(\"Hello, World!\")  # This is another comment\n"
   ]
  },
  {
   "cell_type": "raw",
   "id": "a0044bc4-1590-436d-81f1-9208850e7df9",
   "metadata": {},
   "source": [
    "2.Multi-line comments:To create multi line comments triple-quotes(either single or double) can be used to create a multi-line string.Python does not have a specific syntax for multi-line comments,since strings in Python are immutable, they are not executed by the interpreter, effectively making them a way to comment multiple lines."
   ]
  },
  {
   "cell_type": "code",
   "execution_count": 3,
   "id": "a486c756-340e-45ab-bff6-ebc73e8cb30e",
   "metadata": {},
   "outputs": [
    {
     "name": "stdout",
     "output_type": "stream",
     "text": [
      "\n"
     ]
    }
   ],
   "source": [
    "\"\"\"\n",
    "This is a multi-line comment in Python.\n",
    "You can add as many lines as you want inside triple quotes.\n",
    "\"\"\"\n",
    "\n",
    "'''\n",
    "You can also use single quotes for multi-line comments.\n",
    "This is another example.\n",
    "'''\n"
   ]
  },
  {
   "cell_type": "markdown",
   "id": "686955b7-dbe6-4141-abb2-92da0e8fb480",
   "metadata": {},
   "source": [
    "#### Q2. What are variables in Python? How do you declare and assign values to variables?"
   ]
  },
  {
   "cell_type": "raw",
   "id": "10f1fca9-64d9-4676-947e-301ab72b11d6",
   "metadata": {},
   "source": [
    "Variables are placeholders for storing various types of data such as numbers, strings, lists, dictionaries, and more.\n",
    "A variable is a name assigned to a memory location where data can be stored.\n",
    "We dont need to declare data types while creating a variable in python as python is a dynamically typed language.\n",
    "Variable naming rules in Python:\n",
    "1.Variable names must start with a letter (a-z, A-Z) or an underscore (_).\n",
    "2.The rest of the variable name can contain letters, numbers, and underscores.\n",
    "3.Variable names are case-sensitive (e.g., \"myVar\" and \"myvar\" are different variables).\n",
    "4.Reserved keywords (e.g., if, else, while, for, etc.) cannot be used as variable names."
   ]
  },
  {
   "cell_type": "code",
   "execution_count": 5,
   "id": "8450bd3f-c85d-4eb6-ac2b-d6d27266c5b3",
   "metadata": {},
   "outputs": [],
   "source": [
    "# Variable declaration and assignment in one step\n",
    "my_variable = 42\n",
    "name = \"John Doe\"\n",
    "is_student = True\n",
    "pi_value = 3.14159\n",
    "\n",
    "# You can also declare multiple variables in one line\n",
    "x, y, z = 10, 20, 30"
   ]
  },
  {
   "cell_type": "markdown",
   "id": "9aa3ff5d-8c1c-497c-b58b-59cb0aecbacf",
   "metadata": {},
   "source": [
    "#### Q3. How do you convert one data type to another in Python?"
   ]
  },
  {
   "cell_type": "raw",
   "id": "53f3c373-dc62-4ad8-89cf-538f1f848aac",
   "metadata": {},
   "source": [
    "Use Type conversion functions such as int(), string(), float(), string(), bool(), list(), tuple(), complex(), tuple() etc "
   ]
  },
  {
   "cell_type": "raw",
   "id": "b29bd440-7245-44ed-9ecb-c53a109d32fd",
   "metadata": {},
   "source": [
    "#Ex:To convert string to int\n",
    "my_string=\"123\"\n",
    "my_int=int(my_string)\n",
    "print(my_int)\n",
    " \n",
    "#To convert string to float\n",
    "my_string=\"123\"\n",
    "my_float=float(my_string)\n",
    "print(my_float)\n",
    "\n",
    "#To convert string to list\n",
    "my_string=\"123\"\n",
    "my_list=list(my_string)\n",
    "print(my_list)\n",
    "\n",
    "#To convet list to tuple\n",
    "my_list=[1,2,3]\n",
    "my_tuple=tuple(my_list)\n",
    "print(my_tuple)\n",
    "\n",
    "#To tuple to set\n",
    "my_tuple=[1,2,3,3]\n",
    "my_set=set(my_tuple)\n",
    "print(my_set)\n",
    "\n"
   ]
  },
  {
   "cell_type": "markdown",
   "id": "e027908e-9de8-416e-8df1-c37e1b6d54f3",
   "metadata": {},
   "source": [
    "#### Q4. How do you write and execute a Python script from the command line?"
   ]
  },
  {
   "cell_type": "markdown",
   "id": "b793bc05-c223-4347-a5e4-1baa1743df2c",
   "metadata": {},
   "source": [
    "1.Open text editor and create a python file.\n",
    "Suppose our python file contains the following script:\n",
    "\n",
    "\n",
    "##### myscript.py\n",
    "##### print(\"Hello, World!\")\n",
    "\n",
    "\n",
    "2.Open command prompt or terminal:\n",
    "Type the following command to navigate to the directory where your python file is located.\n",
    "\n",
    "\n",
    "##### cd Documents\n",
    "\n",
    "\n",
    "3.Execute the script:\n",
    "\n",
    "\n",
    "##### python myscript.py\n",
    "\n",
    "4.Output\n",
    "\n",
    "##### Hello, World!"
   ]
  },
  {
   "cell_type": "markdown",
   "id": "93c90099-3d90-4730-8b33-bd83b35681a2",
   "metadata": {},
   "source": [
    "#### Q5. Given a list my_list = [1, 2, 3, 4, 5], write the code to slice the list and obtain the sub-list [2, 3]."
   ]
  },
  {
   "cell_type": "code",
   "execution_count": 13,
   "id": "c72d0146-feb5-43df-b3bf-69518bc9ea48",
   "metadata": {},
   "outputs": [
    {
     "data": {
      "text/plain": [
       "[2, 3]"
      ]
     },
     "execution_count": 13,
     "metadata": {},
     "output_type": "execute_result"
    }
   ],
   "source": [
    "my_list=[1,2,3,4,5]\n",
    "sub_list=my_list[1:3]\n",
    "sub_list"
   ]
  },
  {
   "cell_type": "markdown",
   "id": "92e8652d-a808-4e5a-8f48-d0c34a6865a8",
   "metadata": {},
   "source": [
    "#### Q6. What is a complex number in mathematics, and how is it represented in Python?"
   ]
  },
  {
   "cell_type": "raw",
   "id": "c837a239-c606-4d77-998f-1f2eb83495b3",
   "metadata": {},
   "source": [
    "In math a complex number can be represented as 'a+bj' where 'a' and 'b' are real numbers and 'j' represents imaginary unit defined as a square root of -1.'a' represents the real part of the complex number and 'b' represents the imaginary part.\n",
    "\n",
    "In python complex no is represented using 'complex' datatype.\n",
    "\n",
    "'complex()' function is used to create a complex no from a tuple of two real nos."
   ]
  },
  {
   "cell_type": "code",
   "execution_count": 14,
   "id": "1466c497-11a6-4f88-9870-4d85c85e19a1",
   "metadata": {},
   "outputs": [
    {
     "name": "stdout",
     "output_type": "stream",
     "text": [
      "(4+9j)\n",
      "<class 'complex'>\n",
      "(3+7j)\n",
      "<class 'complex'>\n"
     ]
    }
   ],
   "source": [
    "#variable with complex datatype\n",
    "var=4+9j\n",
    "print(var)\n",
    "print(type(var))\n",
    "\n",
    "#using complex() function\n",
    "var=complex(3,7)\n",
    "print(var)\n",
    "print(type(var))"
   ]
  },
  {
   "cell_type": "markdown",
   "id": "8535bf95-3756-43d4-99cb-0357d5813b09",
   "metadata": {},
   "source": [
    "#### Q7. What is the correct way to declare a variable named age and assign the value 25 to it?"
   ]
  },
  {
   "cell_type": "code",
   "execution_count": 15,
   "id": "4bc73983-71c2-4219-821a-3a8060b49b65",
   "metadata": {},
   "outputs": [],
   "source": [
    "age = 25"
   ]
  },
  {
   "cell_type": "markdown",
   "id": "67ee6280-cb74-481d-bdf2-6de5982c3d83",
   "metadata": {},
   "source": [
    "#### Q8. Declare a variable named price and assign the value 9.99 to it. What data type does this variable belong to?"
   ]
  },
  {
   "cell_type": "code",
   "execution_count": 16,
   "id": "3cf70779-5efa-4706-b8b5-b14700dcc1ce",
   "metadata": {},
   "outputs": [
    {
     "data": {
      "text/plain": [
       "float"
      ]
     },
     "execution_count": 16,
     "metadata": {},
     "output_type": "execute_result"
    }
   ],
   "source": [
    "price=9.99\n",
    "type(price)"
   ]
  },
  {
   "cell_type": "markdown",
   "id": "9daa40ea-fb96-44df-bed7-98eed51f30a6",
   "metadata": {},
   "source": [
    "#### Q9. Create a variable named name and assign your full name to it as a string. How would you print the value of this variable?"
   ]
  },
  {
   "cell_type": "code",
   "execution_count": 17,
   "id": "22efba84-4646-4d4b-a65b-87e9d9c72e2b",
   "metadata": {},
   "outputs": [
    {
     "name": "stdout",
     "output_type": "stream",
     "text": [
      "Syeda Zainab Fatina\n"
     ]
    }
   ],
   "source": [
    "name=\"Syeda Zainab Fatina\"\n",
    "#using print function\n",
    "print(name)"
   ]
  },
  {
   "cell_type": "markdown",
   "id": "9115c7ea-8177-4a4e-918e-45dcd737a6d6",
   "metadata": {},
   "source": [
    "#### Q10. Given the string \"Hello, World!\", extract the substring \"World\"."
   ]
  },
  {
   "cell_type": "code",
   "execution_count": 27,
   "id": "6d6fc63f-b12b-4cfe-9d3b-4e898d640fe1",
   "metadata": {},
   "outputs": [
    {
     "data": {
      "text/plain": [
       "'World!'"
      ]
     },
     "execution_count": 27,
     "metadata": {},
     "output_type": "execute_result"
    }
   ],
   "source": [
    "#using slicing operation\n",
    "string=\"Hello,World!\"\n",
    "string[6:]"
   ]
  },
  {
   "cell_type": "code",
   "execution_count": 28,
   "id": "0aadf1f0-a44e-4d30-be03-5b47b1059f0c",
   "metadata": {},
   "outputs": [
    {
     "data": {
      "text/plain": [
       "'World!'"
      ]
     },
     "execution_count": 28,
     "metadata": {},
     "output_type": "execute_result"
    }
   ],
   "source": [
    "#using split() function \n",
    "list=string.split(\",\")\n",
    "list[1]"
   ]
  },
  {
   "cell_type": "markdown",
   "id": "53cc5f0d-4f7d-4d75-911f-f329e0097967",
   "metadata": {},
   "source": [
    "#### Q11. Create a variable named \"is_student\" and assign it a boolean value indicating whether you are currently a student or not."
   ]
  },
  {
   "cell_type": "code",
   "execution_count": 31,
   "id": "372bb99d-64b6-4656-bccd-5e5a3e33ead6",
   "metadata": {},
   "outputs": [
    {
     "name": "stdin",
     "output_type": "stream",
     "text": [
      "Are you currently a student Yes\n"
     ]
    },
    {
     "name": "stdout",
     "output_type": "stream",
     "text": [
      "True\n"
     ]
    }
   ],
   "source": [
    "if(input(\"Are you currently a student\"))==\"Yes\":\n",
    "    is_student=True\n",
    "else:\n",
    "    is_student=False\n",
    "print(is_student)"
   ]
  },
  {
   "cell_type": "code",
   "execution_count": null,
   "id": "9f8161e0-fa04-44c8-9310-195f51b29638",
   "metadata": {},
   "outputs": [],
   "source": []
  }
 ],
 "metadata": {
  "kernelspec": {
   "display_name": "Python 3 (ipykernel)",
   "language": "python",
   "name": "python3"
  },
  "language_info": {
   "codemirror_mode": {
    "name": "ipython",
    "version": 3
   },
   "file_extension": ".py",
   "mimetype": "text/x-python",
   "name": "python",
   "nbconvert_exporter": "python",
   "pygments_lexer": "ipython3",
   "version": "3.10.8"
  }
 },
 "nbformat": 4,
 "nbformat_minor": 5
}
