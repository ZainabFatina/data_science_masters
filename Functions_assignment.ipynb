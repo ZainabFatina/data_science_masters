{
 "cells": [
  {
   "cell_type": "markdown",
   "id": "9cc89dcb-cf53-4e33-be8d-6041469168c6",
   "metadata": {},
   "source": [
    "##### Q1. Which keyword is used to create a function? Create a function to return a list of odd numbers in the range of 1 to 25."
   ]
  },
  {
   "cell_type": "raw",
   "id": "ec6b3fbd-1950-45a7-84ea-0b749c33d36b",
   "metadata": {},
   "source": [
    "def keyword is used to create a function"
   ]
  },
  {
   "cell_type": "code",
   "execution_count": 4,
   "id": "f9fb30da-c878-4ce4-b4ba-17f44ec76abd",
   "metadata": {},
   "outputs": [],
   "source": [
    "def odd_1to25():\n",
    "    return list(i for i in range(1,26) if i%2!=0) "
   ]
  },
  {
   "cell_type": "code",
   "execution_count": 5,
   "id": "91715d1a-6995-4b87-a249-f096b72d3686",
   "metadata": {},
   "outputs": [
    {
     "data": {
      "text/plain": [
       "[1, 3, 5, 7, 9, 11, 13, 15, 17, 19, 21, 23, 25]"
      ]
     },
     "execution_count": 5,
     "metadata": {},
     "output_type": "execute_result"
    }
   ],
   "source": [
    "odd_1to25()"
   ]
  },
  {
   "cell_type": "markdown",
   "id": "2cf06149-c9f0-4e79-8e6b-388aea177809",
   "metadata": {},
   "source": [
    "##### Q2. Why *args and **kwargs is used in some functions? Create a function each for *args and **kwargs to demonstrate their use."
   ]
  },
  {
   "cell_type": "raw",
   "id": "1a5e6d36-2263-4a7f-bcfb-7cfdf0691ff6",
   "metadata": {},
   "source": [
    "*args is used to pass variable no of arguments to a function\n",
    "**kwargs is used to pass variable no of key value pairs to a function"
   ]
  },
  {
   "cell_type": "code",
   "execution_count": 6,
   "id": "5b59f1d4-1b1f-422c-9d6d-bb37dafdacba",
   "metadata": {},
   "outputs": [
    {
     "data": {
      "text/plain": [
       "([1, 2, 3, 4], [5, 6, 7, 8])"
      ]
     },
     "execution_count": 6,
     "metadata": {},
     "output_type": "execute_result"
    }
   ],
   "source": [
    "#example of *args\n",
    "def func(*args):\n",
    "    return args\n",
    "func([1,2,3,4],[5,6,7,8])"
   ]
  },
  {
   "cell_type": "code",
   "execution_count": 11,
   "id": "796ab863-7976-4088-a112-a27963550d98",
   "metadata": {},
   "outputs": [
    {
     "data": {
      "text/plain": [
       "{'list1': [1, 2, 3, 4], 'list2': [5, 6, 7, 8]}"
      ]
     },
     "execution_count": 11,
     "metadata": {},
     "output_type": "execute_result"
    }
   ],
   "source": [
    "#example of *kwargs\n",
    "def func(**kwargs):\n",
    "    return kwargs\n",
    "func(list1=[1,2,3,4],list2=[5,6,7,8])"
   ]
  },
  {
   "cell_type": "markdown",
   "id": "64ff64fd-aaa8-49e1-8f20-23b7e867b2a5",
   "metadata": {},
   "source": [
    "##### Q3. What is an iterator in python? Name the method used to initialise the iterator object and the method used for iteration. Use these methods to print the first five elements of the given list [2, 4, 6, 8, 10, 12, 14, 16, 18, 20]."
   ]
  },
  {
   "cell_type": "raw",
   "id": "a654e8db-5be6-468b-bdb4-1f0667d8a32d",
   "metadata": {},
   "source": [
    "An iterator is an object that allows you to loop over a sequence of elements, one at a time.\n",
    "1.Method to initialize the iterator object: iter()\n",
    "2.Method used for iteration: next()\n"
   ]
  },
  {
   "cell_type": "code",
   "execution_count": 12,
   "id": "46d1cbcf-8983-4db4-9d42-42fd1b5c0f1a",
   "metadata": {},
   "outputs": [
    {
     "name": "stdout",
     "output_type": "stream",
     "text": [
      "2\n",
      "4\n",
      "6\n",
      "8\n",
      "10\n"
     ]
    }
   ],
   "source": [
    "# Given list\n",
    "my_list = [2, 4, 6, 8, 10, 12, 14, 16, 18, 20]\n",
    "\n",
    "# Create an iterator object\n",
    "my_iterator = iter(my_list)\n",
    "\n",
    "# Print the first five elements using the iterator\n",
    "for _ in range(5):\n",
    "    print(next(my_iterator))\n"
   ]
  },
  {
   "cell_type": "markdown",
   "id": "d90f64d0-88ba-4274-88d0-0b97b808c775",
   "metadata": {},
   "source": [
    "##### Q4. What is a generator function in python? Why yield keyword is used? Give an example of a generator function."
   ]
  },
  {
   "cell_type": "raw",
   "id": "e71afdfc-2a31-48fc-9a67-bdea4952878c",
   "metadata": {},
   "source": [
    "A geneerator function is used to generate a sequence of values one at a time using yield keyword based on some condition.\n",
    "Yield Keyword: The yield keyword is used to produce a value from the generator function. "
   ]
  },
  {
   "cell_type": "code",
   "execution_count": 28,
   "id": "130a7099-392b-4119-891b-ee60449b879b",
   "metadata": {},
   "outputs": [
    {
     "data": {
      "text/plain": [
       "<generator object even_sequence at 0x7f9f88681bd0>"
      ]
     },
     "execution_count": 28,
     "metadata": {},
     "output_type": "execute_result"
    }
   ],
   "source": [
    "def even_sequence(n):\n",
    "    a=2\n",
    "    for i in range(n):\n",
    "        yield a\n",
    "        a=a+2\n",
    "even_sequence(5)"
   ]
  },
  {
   "cell_type": "code",
   "execution_count": 29,
   "id": "7a6b349e-b505-4bb4-8f3b-996e80b6df31",
   "metadata": {},
   "outputs": [
    {
     "data": {
      "text/plain": [
       "[2, 4, 6, 8, 10]"
      ]
     },
     "execution_count": 29,
     "metadata": {},
     "output_type": "execute_result"
    }
   ],
   "source": [
    "list(even_sequence(5))"
   ]
  },
  {
   "cell_type": "markdown",
   "id": "d8896a4a-7254-4ead-9934-d0d80000d7b0",
   "metadata": {},
   "source": [
    "##### Q5. Create a generator function for prime numbers less than 1000. Use the next() method to print the first 20 prime numbers."
   ]
  },
  {
   "cell_type": "code",
   "execution_count": 24,
   "id": "34e29463-d5b3-44cd-b007-4fe1f81a1a63",
   "metadata": {},
   "outputs": [],
   "source": [
    "def prime_sequence():\n",
    "    for i in range(1000):\n",
    "       if all(i % j != 0 for j in range(2,i))==True:\n",
    "            yield i\n",
    "\n",
    "prime_generator=prime_sequence()"
   ]
  },
  {
   "cell_type": "code",
   "execution_count": 25,
   "id": "92b65085-a92a-440a-a3ce-68fd699d7bad",
   "metadata": {},
   "outputs": [
    {
     "name": "stdout",
     "output_type": "stream",
     "text": [
      "0\n",
      "1\n",
      "2\n",
      "3\n",
      "5\n",
      "7\n",
      "11\n",
      "13\n",
      "17\n",
      "19\n",
      "23\n",
      "29\n",
      "31\n",
      "37\n",
      "41\n",
      "43\n",
      "47\n",
      "53\n",
      "59\n",
      "61\n"
     ]
    }
   ],
   "source": [
    "for _ in range(20):\n",
    "    print(next(prime_generator))"
   ]
  },
  {
   "cell_type": "code",
   "execution_count": null,
   "id": "8ec07948-8145-4023-96eb-604ae3ed73b1",
   "metadata": {},
   "outputs": [],
   "source": []
  }
 ],
 "metadata": {
  "kernelspec": {
   "display_name": "Python 3 (ipykernel)",
   "language": "python",
   "name": "python3"
  },
  "language_info": {
   "codemirror_mode": {
    "name": "ipython",
    "version": 3
   },
   "file_extension": ".py",
   "mimetype": "text/x-python",
   "name": "python",
   "nbconvert_exporter": "python",
   "pygments_lexer": "ipython3",
   "version": "3.10.8"
  }
 },
 "nbformat": 4,
 "nbformat_minor": 5
}
